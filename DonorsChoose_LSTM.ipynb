{
 "cells": [
  {
   "cell_type": "code",
   "execution_count": 1,
   "metadata": {
    "colab": {
     "base_uri": "https://localhost:8080/",
     "height": 34
    },
    "colab_type": "code",
    "id": "cjPDnkrkTlxM",
    "outputId": "e420afac-cebc-45f4-ae1c-8bdefa324a74"
   },
   "outputs": [
    {
     "name": "stderr",
     "output_type": "stream",
     "text": [
      "Using TensorFlow backend.\n"
     ]
    }
   ],
   "source": [
    "import numpy as np\n",
    "import pandas as pd\n",
    "from keras.models import Sequential\n",
    "from keras.layers import Dense\n",
    "from keras.layers import LSTM \n",
    "from keras.layers.embeddings import Embedding\n",
    "from keras.preprocessing import sequence\n",
    "from keras.layers import Input, Dropout, BatchNormalization,  concatenate, Flatten, Conv1D, MaxPool1D, LeakyReLU, ELU, SpatialDropout1D, MaxPooling1D, GlobalAveragePooling1D, GlobalMaxPooling1D\n",
    "# fix random seed for reproducibility\n",
    "np.random.seed(7)\n",
    "from sklearn.preprocessing import LabelEncoder\n",
    "from keras.callbacks import ModelCheckpoint, EarlyStopping, TensorBoard, ReduceLROnPlateau\n",
    "from keras import regularizers\n",
    "from sklearn.feature_extraction.text import TfidfVectorizer\n",
    "from keras.models import Model\n",
    "\n",
    "import matplotlib.pyplot as plt\n",
    "%matplotlib inline\n",
    "import seaborn as sns\n",
    "import tensorflow as tf"
   ]
  },
  {
   "cell_type": "code",
   "execution_count": 2,
   "metadata": {
    "colab": {
     "base_uri": "https://localhost:8080/",
     "height": 122
    },
    "colab_type": "code",
    "id": "1V0pGzUWUQTo",
    "outputId": "deb052e9-ecb6-4863-fad9-0af5f35d8bf8"
   },
   "outputs": [
    {
     "name": "stdout",
     "output_type": "stream",
     "text": [
      "Go to this URL in a browser: https://accounts.google.com/o/oauth2/auth?client_id=947318989803-6bn6qk8qdgf4n4g3pfee6491hc0brc4i.apps.googleusercontent.com&redirect_uri=urn%3Aietf%3Awg%3Aoauth%3A2.0%3Aoob&scope=email%20https%3A%2F%2Fwww.googleapis.com%2Fauth%2Fdocs.test%20https%3A%2F%2Fwww.googleapis.com%2Fauth%2Fdrive%20https%3A%2F%2Fwww.googleapis.com%2Fauth%2Fdrive.photos.readonly%20https%3A%2F%2Fwww.googleapis.com%2Fauth%2Fpeopleapi.readonly&response_type=code\n",
      "\n",
      "Enter your authorization code:\n",
      "··········\n",
      "Mounted at /content/gdrive\n"
     ]
    }
   ],
   "source": [
    "# Mounting google drive so as to load dataset from google drive\n",
    "\n",
    "from google.colab import drive\n",
    "drive.mount('/content/gdrive')"
   ]
  },
  {
   "cell_type": "code",
   "execution_count": 3,
   "metadata": {
    "colab": {
     "base_uri": "https://localhost:8080/",
     "height": 85
    },
    "colab_type": "code",
    "id": "YOJW0QATmu7T",
    "outputId": "baceb102-a4b9-4900-8dfb-8b1314202678"
   },
   "outputs": [
    {
     "name": "stdout",
     "output_type": "stream",
     "text": [
      "Requirement already satisfied: tensorboardcolab in /usr/local/lib/python3.6/dist-packages (0.0.22)\n",
      "Wait for 8 seconds...\n",
      "TensorBoard link:\n",
      "https://03cda8bf.ngrok.io\n"
     ]
    }
   ],
   "source": [
    "# Tensorboard dashboard\n",
    "# Open the link generated here for TensorBoard Dashboard\n",
    "\n",
    "!pip install tensorboardcolab\n",
    "from tensorboardcolab import TensorBoardColab, TensorBoardColabCallback\n",
    "\n",
    "tbc=TensorBoardColab()"
   ]
  },
  {
   "cell_type": "code",
   "execution_count": 0,
   "metadata": {
    "colab": {},
    "colab_type": "code",
    "id": "JQAAWvavf-Hj"
   },
   "outputs": [],
   "source": [
    "# plot functions for loss and auc\n",
    "\n",
    "%matplotlib notebook\n",
    "%matplotlib inline\n",
    "\n",
    "def plt_dynamic_loss(x, t_loss , cv_loss ):\n",
    "  \n",
    "  sns.set()\n",
    "  \n",
    "  fig , ax1 = plt.subplots()\n",
    "  ax1.plot(x, cv_loss, 'b', label=\"Validation Loss\")\n",
    "  ax1.plot(x, t_loss, 'r', label=\"Train Loss\")\n",
    "  \n",
    "  ax1.set_xlabel('epoch')\n",
    "  ax1.set_ylabel('Categorical CrossEntropyloss')\n",
    "  \n",
    "  \n",
    " \n",
    "  \n",
    "  plt.legend()\n",
    "  plt.grid()\n",
    "  plt.show()\n",
    "  \n",
    "\n",
    "def plt_dynamic_auc(x, t_auc , cv_auc):\n",
    "  \n",
    "  sns.set()\n",
    "  \n",
    "  fig ,ax1 = plt.subplots()\n",
    "  ax1.plot(x, cv_auc, 'b', label=\"Validation auc\")\n",
    "  ax1.plot(x, t_auc, 'r', label=\"Train auc\")\n",
    "  \n",
    "  ax1.set_xlabel('epoch')\n",
    "  ax1.set_ylabel('AUC ROC')\n",
    "  \n",
    "  plt.legend()\n",
    "  plt.grid()\n",
    "  plt.show()"
   ]
  },
  {
   "cell_type": "code",
   "execution_count": 6,
   "metadata": {
    "colab": {
     "base_uri": "https://localhost:8080/",
     "height": 284
    },
    "colab_type": "code",
    "id": "G551X7X5UaoG",
    "outputId": "2967d851-9cb8-4369-babb-7a7fd789713d"
   },
   "outputs": [
    {
     "data": {
      "text/html": [
       "<div>\n",
       "<style scoped>\n",
       "    .dataframe tbody tr th:only-of-type {\n",
       "        vertical-align: middle;\n",
       "    }\n",
       "\n",
       "    .dataframe tbody tr th {\n",
       "        vertical-align: top;\n",
       "    }\n",
       "\n",
       "    .dataframe thead th {\n",
       "        text-align: right;\n",
       "    }\n",
       "</style>\n",
       "<table border=\"1\" class=\"dataframe\">\n",
       "  <thead>\n",
       "    <tr style=\"text-align: right;\">\n",
       "      <th></th>\n",
       "      <th>school_state</th>\n",
       "      <th>teacher_prefix</th>\n",
       "      <th>project_grade_category</th>\n",
       "      <th>teacher_number_of_previously_posted_projects</th>\n",
       "      <th>project_is_approved</th>\n",
       "      <th>clean_categories</th>\n",
       "      <th>clean_subcategories</th>\n",
       "      <th>essay</th>\n",
       "      <th>price</th>\n",
       "    </tr>\n",
       "  </thead>\n",
       "  <tbody>\n",
       "    <tr>\n",
       "      <th>0</th>\n",
       "      <td>ca</td>\n",
       "      <td>mrs</td>\n",
       "      <td>grades_prek_2</td>\n",
       "      <td>53</td>\n",
       "      <td>1</td>\n",
       "      <td>math_science</td>\n",
       "      <td>appliedsciences health_lifescience</td>\n",
       "      <td>i fortunate enough use fairy tale stem kits cl...</td>\n",
       "      <td>725.05</td>\n",
       "    </tr>\n",
       "    <tr>\n",
       "      <th>1</th>\n",
       "      <td>ut</td>\n",
       "      <td>ms</td>\n",
       "      <td>grades_3_5</td>\n",
       "      <td>4</td>\n",
       "      <td>1</td>\n",
       "      <td>specialneeds</td>\n",
       "      <td>specialneeds</td>\n",
       "      <td>imagine 8 9 years old you third grade classroo...</td>\n",
       "      <td>213.03</td>\n",
       "    </tr>\n",
       "  </tbody>\n",
       "</table>\n",
       "</div>"
      ],
      "text/plain": [
       "  school_state  ...   price\n",
       "0           ca  ...  725.05\n",
       "1           ut  ...  213.03\n",
       "\n",
       "[2 rows x 9 columns]"
      ]
     },
     "execution_count": 6,
     "metadata": {
      "tags": []
     },
     "output_type": "execute_result"
    }
   ],
   "source": [
    "# This is the preprocesses dataset of DonorsChoose dataset,\n",
    "# Here we performed text cleaning, stopword removal, amputing missing values on text and some preprocessing on categorical features\n",
    "\n",
    "dataset_path = '/content/gdrive/My Drive/AppliedAI Dataset/DonorsChoose_Lstm/preprocessed_data.csv'\n",
    "\n",
    "data = pd.read_csv(dataset_path)\n",
    "\n",
    "data.head(2)"
   ]
  },
  {
   "cell_type": "code",
   "execution_count": 7,
   "metadata": {
    "colab": {
     "base_uri": "https://localhost:8080/",
     "height": 102
    },
    "colab_type": "code",
    "id": "o2vzvdMWeLkA",
    "outputId": "758c0241-b325-48a1-b213-70f68f0d2702"
   },
   "outputs": [
    {
     "name": "stdout",
     "output_type": "stream",
     "text": [
      "Index(['school_state', 'teacher_prefix', 'project_grade_category',\n",
      "       'teacher_number_of_previously_posted_projects', 'project_is_approved',\n",
      "       'clean_categories', 'clean_subcategories', 'essay', 'price'],\n",
      "      dtype='object')\n",
      "(109248, 9)\n"
     ]
    }
   ],
   "source": [
    "print(data.columns)\n",
    "print(data.shape)\n"
   ]
  },
  {
   "cell_type": "code",
   "execution_count": 8,
   "metadata": {
    "colab": {
     "base_uri": "https://localhost:8080/",
     "height": 34
    },
    "colab_type": "code",
    "id": "CbaWNm2ZeiON",
    "outputId": "b7e89d21-dc06-48a3-df32-7fedc91bc43e"
   },
   "outputs": [
    {
     "name": "stdout",
     "output_type": "stream",
     "text": [
      "(109248, 8) (109248,)\n"
     ]
    }
   ],
   "source": [
    "# Taking a sample of 60000 points from project data for analysis\n",
    "\n",
    "X = data\n",
    "\n",
    "y = X['project_is_approved'].values\n",
    "\n",
    "X.drop(['project_is_approved'], axis=1, inplace=True)\n",
    "\n",
    "print(X.shape ,y.shape)\n"
   ]
  },
  {
   "cell_type": "markdown",
   "metadata": {
    "colab_type": "text",
    "id": "pOuFfy0dgRU3"
   },
   "source": [
    "### Splitting data int train, test and cv"
   ]
  },
  {
   "cell_type": "code",
   "execution_count": 9,
   "metadata": {
    "colab": {
     "base_uri": "https://localhost:8080/",
     "height": 68
    },
    "colab_type": "code",
    "id": "NsGh971agLCP",
    "outputId": "6f943a21-a74f-487c-9687-aae5d48e4870"
   },
   "outputs": [
    {
     "name": "stdout",
     "output_type": "stream",
     "text": [
      "(69918, 8) (69918,)\n",
      "(21850, 8) (21850,)\n",
      "(17480, 8) (17480,)\n"
     ]
    }
   ],
   "source": [
    "from sklearn.model_selection import train_test_split\n",
    "x_train, X_test, y_train, Y_test = train_test_split(X, y, test_size=0.20, stratify=y , random_state =7 )\n",
    "X_train , X_cv  , Y_train , Y_cv  =  train_test_split(x_train, y_train, test_size=0.20, stratify=y_train , random_state =7 )\n",
    "\n",
    "print(X_train.shape,Y_train.shape)\n",
    "print(X_test.shape,Y_test.shape)\n",
    "print(X_cv.shape,Y_cv.shape)\n"
   ]
  },
  {
   "cell_type": "code",
   "execution_count": 0,
   "metadata": {
    "colab": {},
    "colab_type": "code",
    "id": "5i8YRImwOfB0"
   },
   "outputs": [],
   "source": [
    "# Defining Custom ROC-AUC Metrics\n",
    "from sklearn.metrics import roc_auc_score\n",
    "\n",
    "def auc1(y_true, y_pred):\n",
    "    if len(np.unique(y_true[:,1])) == 1:\n",
    "        return 0.5\n",
    "    else:\n",
    "        return roc_auc_score(y_true, y_pred)\n",
    "\n",
    "def auroc(y_true, y_pred):\n",
    "    return tf.py_func(auc1, (y_true, y_pred), tf.double)"
   ]
  },
  {
   "cell_type": "markdown",
   "metadata": {
    "colab_type": "text",
    "id": "Gl8HIyPylu_Y"
   },
   "source": [
    "### Integer Encoding of text data"
   ]
  },
  {
   "cell_type": "code",
   "execution_count": 11,
   "metadata": {
    "colab": {
     "base_uri": "https://localhost:8080/",
     "height": 323
    },
    "colab_type": "code",
    "id": "E_RO0jRKjsqb",
    "outputId": "b154895f-fb7b-4a95-d922-e8f6149c5f99"
   },
   "outputs": [
    {
     "name": "stderr",
     "output_type": "stream",
     "text": [
      "/usr/local/lib/python3.6/dist-packages/ipykernel_launcher.py:7: SettingWithCopyWarning: \n",
      "A value is trying to be set on a copy of a slice from a DataFrame.\n",
      "Try using .loc[row_indexer,col_indexer] = value instead\n",
      "\n",
      "See the caveats in the documentation: http://pandas.pydata.org/pandas-docs/stable/indexing.html#indexing-view-versus-copy\n",
      "  import sys\n",
      "/usr/local/lib/python3.6/dist-packages/ipykernel_launcher.py:8: SettingWithCopyWarning: \n",
      "A value is trying to be set on a copy of a slice from a DataFrame.\n",
      "Try using .loc[row_indexer,col_indexer] = value instead\n",
      "\n",
      "See the caveats in the documentation: http://pandas.pydata.org/pandas-docs/stable/indexing.html#indexing-view-versus-copy\n",
      "  \n",
      "/usr/local/lib/python3.6/dist-packages/ipykernel_launcher.py:9: SettingWithCopyWarning: \n",
      "A value is trying to be set on a copy of a slice from a DataFrame.\n",
      "Try using .loc[row_indexer,col_indexer] = value instead\n",
      "\n",
      "See the caveats in the documentation: http://pandas.pydata.org/pandas-docs/stable/indexing.html#indexing-view-versus-copy\n",
      "  if __name__ == '__main__':\n"
     ]
    }
   ],
   "source": [
    "from keras.preprocessing.text import Tokenizer\n",
    "# Encodes from index 1 to max_vocabulary_words\n",
    "\n",
    "tokenizer = Tokenizer()\n",
    "tokenizer.fit_on_texts(X_train['essay'])\n",
    "\n",
    "X_train['IntegerEncoding_1']  = tokenizer.texts_to_sequences(X_train['essay'].values)\n",
    "X_cv['IntegerEncoding_1']     = tokenizer.texts_to_sequences(X_cv['essay'].values)\n",
    "X_test['IntegerEncoding_1']   = tokenizer.texts_to_sequences(X_test['essay'].values)\n",
    "\n",
    "\n"
   ]
  },
  {
   "cell_type": "code",
   "execution_count": 12,
   "metadata": {
    "colab": {
     "base_uri": "https://localhost:8080/",
     "height": 301
    },
    "colab_type": "code",
    "id": "OqjxqwmhtAmO",
    "outputId": "3008c301-00bb-40c1-acf8-761cc9ecdc5b"
   },
   "outputs": [
    {
     "data": {
      "text/html": [
       "<div>\n",
       "<style scoped>\n",
       "    .dataframe tbody tr th:only-of-type {\n",
       "        vertical-align: middle;\n",
       "    }\n",
       "\n",
       "    .dataframe tbody tr th {\n",
       "        vertical-align: top;\n",
       "    }\n",
       "\n",
       "    .dataframe thead th {\n",
       "        text-align: right;\n",
       "    }\n",
       "</style>\n",
       "<table border=\"1\" class=\"dataframe\">\n",
       "  <thead>\n",
       "    <tr style=\"text-align: right;\">\n",
       "      <th></th>\n",
       "      <th>school_state</th>\n",
       "      <th>teacher_prefix</th>\n",
       "      <th>project_grade_category</th>\n",
       "      <th>teacher_number_of_previously_posted_projects</th>\n",
       "      <th>clean_categories</th>\n",
       "      <th>clean_subcategories</th>\n",
       "      <th>essay</th>\n",
       "      <th>price</th>\n",
       "      <th>IntegerEncoding_1</th>\n",
       "    </tr>\n",
       "  </thead>\n",
       "  <tbody>\n",
       "    <tr>\n",
       "      <th>20846</th>\n",
       "      <td>la</td>\n",
       "      <td>ms</td>\n",
       "      <td>grades_prek_2</td>\n",
       "      <td>0</td>\n",
       "      <td>math_science</td>\n",
       "      <td>mathematics</td>\n",
       "      <td>my school small population big heart i want in...</td>\n",
       "      <td>376.76</td>\n",
       "      <td>[4, 3, 81, 226, 406, 678, 2, 34, 470, 1, 19, 5...</td>\n",
       "    </tr>\n",
       "    <tr>\n",
       "      <th>81132</th>\n",
       "      <td>mi</td>\n",
       "      <td>ms</td>\n",
       "      <td>grades_prek_2</td>\n",
       "      <td>6</td>\n",
       "      <td>literacy_language math_science</td>\n",
       "      <td>literature_writing mathematics</td>\n",
       "      <td>a typical day classroom busy we jam packed mat...</td>\n",
       "      <td>298.99</td>\n",
       "      <td>[171, 690, 20, 6, 1014, 14, 6536, 3780, 41, 84...</td>\n",
       "    </tr>\n",
       "  </tbody>\n",
       "</table>\n",
       "</div>"
      ],
      "text/plain": [
       "      school_state  ...                                  IntegerEncoding_1\n",
       "20846           la  ...  [4, 3, 81, 226, 406, 678, 2, 34, 470, 1, 19, 5...\n",
       "81132           mi  ...  [171, 690, 20, 6, 1014, 14, 6536, 3780, 41, 84...\n",
       "\n",
       "[2 rows x 9 columns]"
      ]
     },
     "execution_count": 12,
     "metadata": {
      "tags": []
     },
     "output_type": "execute_result"
    }
   ],
   "source": [
    "X_train.head(2)"
   ]
  },
  {
   "cell_type": "code",
   "execution_count": 13,
   "metadata": {
    "colab": {
     "base_uri": "https://localhost:8080/",
     "height": 88
    },
    "colab_type": "code",
    "id": "_yoWDR5dnd7F",
    "outputId": "3ee759a3-21ca-4ac6-a967-b99ee6a50b7f"
   },
   "outputs": [
    {
     "name": "stdout",
     "output_type": "stream",
     "text": [
      "There are 47279 number of unique words in the entire text corpus\n",
      "[4, 3, 81, 226, 406, 678, 2, 34, 470, 1, 19, 5, 19, 3, 2, 34, 1114, 1, 2765, 1182, 48, 4, 1, 15, 311, 31, 144, 10, 31, 42, 94, 4, 652, 1, 1775, 1360, 152, 516, 5, 1, 1008, 99, 1850, 857, 911, 226, 1, 15, 42, 33, 90, 3, 170, 8, 67, 1249, 219, 1, 3, 91, 505, 1669, 8, 12, 5, 42, 62, 2, 34, 57, 94, 1, 34, 101, 124, 95, 10, 208, 174, 3658, 381, 271, 282, 113, 1, 21, 287, 10, 1930, 728, 138, 6, 607, 56, 174, 397, 1, 247, 113, 282, 128, 481, 2744, 5, 1584, 47, 36, 1306, 5, 7, 247, 113, 282, 6, 28, 43, 5, 324, 1871, 6444, 36, 316, 58, 5, 469, 887, 426, 1629, 23, 334, 5, 811, 218, 36, 1669, 7, 1, 23, 90, 3, 90, 5, 247, 113, 99, 855, 36, 398, 113, 23, 101, 182, 80, 5, 13]\n",
      "155\n"
     ]
    }
   ],
   "source": [
    "max_vocabulary = len(tokenizer.word_index)\n",
    "print(\"There are {} number of unique words in the entire text corpus\".format(max_vocabulary))\n",
    "\n",
    "print(X_train['IntegerEncoding_1'].values[0])\n",
    "print(len(X_train['IntegerEncoding_1'].values[0]))\n"
   ]
  },
  {
   "cell_type": "code",
   "execution_count": 0,
   "metadata": {
    "colab": {},
    "colab_type": "code",
    "id": "F-gjzD2drnKP"
   },
   "outputs": [],
   "source": [
    "# truncate and/or pad input sequences\n",
    "\n",
    "# We will be using this as text input to our model\n",
    "\n",
    "max_review_length = 450\n",
    "text_padded_input_train = sequence.pad_sequences(X_train['IntegerEncoding_1'].values, maxlen=max_review_length , padding='post' , truncating ='post')\n",
    "text_padded_input_cv    =   sequence.pad_sequences(X_cv['IntegerEncoding_1'].values, maxlen=max_review_length , padding='post' , truncating ='post')\n",
    "text_padded_input_test  = sequence.pad_sequences(X_test['IntegerEncoding_1'].values, maxlen=max_review_length , padding='post' , truncating ='post')\n"
   ]
  },
  {
   "cell_type": "code",
   "execution_count": 15,
   "metadata": {
    "colab": {
     "base_uri": "https://localhost:8080/",
     "height": 680
    },
    "colab_type": "code",
    "id": "iAIRsF2qxA8U",
    "outputId": "53837272-3d7f-490b-c3be-f9a4aa8f0f9d"
   },
   "outputs": [
    {
     "name": "stdout",
     "output_type": "stream",
     "text": [
      "450\n",
      "[    4     1    19    26     9   154    69   415   829  4474     9    19\n",
      "  1796   160   496   484     9  3800   118  3543    99   211  4453   268\n",
      "     6     1   242  1959   250   223    94   278    12     1    92   191\n",
      "    68   430   696  1047     5     4     1   416   106   958  1546     1\n",
      "  2009    64   149    82     9   155  1476  1133   715    25    23   722\n",
      "  1686   292     1   309    65    26   458   766   126     8    83    33\n",
      "   196    83 21176     4     1    46  8341 23043  1169   126   228   677\n",
      "   218   538     5   722  8341 23043   448   126  3980   607 23043   278\n",
      "  3019  3006 30743   122     1   465   475    14    18 30743   475  3980\n",
      "    57  1397   631   475   138  5533   357  4186  1564     1   993   920\n",
      " 23043  2797   607 23043   122    14    28   167   456  2344    69   604\n",
      "  1431   228  3052   448   373   534  2734  5801   160 17804   412    18\n",
      " 44952  7418    57  1397  1841  8077  1105   534  3145  5367  1169   126\n",
      "    65    57 10616  1917 11867  3856    13     0     0     0     0     0\n",
      "     0     0     0     0     0     0     0     0     0     0     0     0\n",
      "     0     0     0     0     0     0     0     0     0     0     0     0\n",
      "     0     0     0     0     0     0     0     0     0     0     0     0\n",
      "     0     0     0     0     0     0     0     0     0     0     0     0\n",
      "     0     0     0     0     0     0     0     0     0     0     0     0\n",
      "     0     0     0     0     0     0     0     0     0     0     0     0\n",
      "     0     0     0     0     0     0     0     0     0     0     0     0\n",
      "     0     0     0     0     0     0     0     0     0     0     0     0\n",
      "     0     0     0     0     0     0     0     0     0     0     0     0\n",
      "     0     0     0     0     0     0     0     0     0     0     0     0\n",
      "     0     0     0     0     0     0     0     0     0     0     0     0\n",
      "     0     0     0     0     0     0     0     0     0     0     0     0\n",
      "     0     0     0     0     0     0     0     0     0     0     0     0\n",
      "     0     0     0     0     0     0     0     0     0     0     0     0\n",
      "     0     0     0     0     0     0     0     0     0     0     0     0\n",
      "     0     0     0     0     0     0     0     0     0     0     0     0\n",
      "     0     0     0     0     0     0     0     0     0     0     0     0\n",
      "     0     0     0     0     0     0     0     0     0     0     0     0\n",
      "     0     0     0     0     0     0     0     0     0     0     0     0\n",
      "     0     0     0     0     0     0     0     0     0     0     0     0\n",
      "     0     0     0     0     0     0     0     0     0     0     0     0\n",
      "     0     0     0     0     0     0     0     0     0     0     0     0\n",
      "     0     0     0     0     0     0     0     0     0     0     0     0\n",
      "     0     0     0     0     0     0]\n"
     ]
    }
   ],
   "source": [
    "print(len(text_padded_input_train[0]))\n",
    "print(text_padded_input_cv[65])"
   ]
  },
  {
   "cell_type": "code",
   "execution_count": 0,
   "metadata": {
    "colab": {},
    "colab_type": "code",
    "id": "kCfjDnRoo956"
   },
   "outputs": [],
   "source": [
    "import pickle\n",
    "with open('/content/gdrive/My Drive/AppliedAI Dataset/glove_vectors', 'rb') as f:\n",
    "    glove = pickle.load(f)\n",
    "    glove_words =  set(glove.keys())"
   ]
  },
  {
   "cell_type": "code",
   "execution_count": 0,
   "metadata": {
    "colab": {},
    "colab_type": "code",
    "id": "JJpAFdkXrY8i"
   },
   "outputs": [],
   "source": [
    "from numpy import zeros\n",
    "\n",
    "# create a weight matrix for words in training docs\n",
    "embedding_matrix = zeros((max_vocabulary+1, 300))\n",
    "for word, i in tokenizer.word_index.items():\n",
    "    if word in glove_words:\n",
    "       embedding_vector = glove[word]\n",
    "       embedding_matrix[i] = embedding_vector\n"
   ]
  },
  {
   "cell_type": "code",
   "execution_count": 18,
   "metadata": {
    "colab": {
     "base_uri": "https://localhost:8080/",
     "height": 884
    },
    "colab_type": "code",
    "id": "pgqVtrfTOpCL",
    "outputId": "053a3b79-bd60-47f1-a3c9-03527274be79"
   },
   "outputs": [
    {
     "name": "stdout",
     "output_type": "stream",
     "text": [
      "(300,)\n",
      "[ 1.5243e-01 -1.6945e-01 -2.2748e-02 -2.5051e-01 -1.5213e-01 -2.0300e-01\n",
      " -3.3534e+00 -2.6162e-01  1.2675e-01  9.0183e-01  1.3074e-02  3.7517e-01\n",
      " -7.6090e-02 -6.2058e-01 -4.0122e-01 -6.7986e-02  3.6276e-01 -1.9572e-01\n",
      "  3.7641e-01 -4.7978e-02  6.5122e-03  2.6432e-01 -5.2387e-02 -5.1525e-02\n",
      " -3.0775e-01  6.3784e-02  5.6517e-01 -2.2021e-01 -5.2199e-01 -3.5600e-01\n",
      " -4.4535e-01 -6.5147e-01 -1.9593e-01  3.2336e-01 -2.9516e-01  2.3886e-01\n",
      " -1.8961e-01  1.0907e-01 -2.4158e-01  4.1535e-02  7.9857e-02  4.4682e-02\n",
      "  2.6472e-01 -6.6871e-01  1.0028e-01 -4.5726e-01  5.1603e-01  3.8309e-02\n",
      "  2.3472e-01 -2.4350e-01 -2.8054e-01  2.9672e-01  3.9380e-01  2.5832e-01\n",
      "  1.9966e-01 -3.8862e-01  2.4473e-01  3.6665e-01 -4.4643e-01  5.4612e-02\n",
      " -4.3967e-01  2.8433e-01  5.1575e-01 -2.0117e-01 -3.3626e-01  7.1260e-01\n",
      "  3.3023e-02 -3.6070e-01  7.8828e-01 -5.4928e-01 -7.0503e-01 -2.6041e-01\n",
      " -1.7760e-01 -6.2402e-01  7.3210e-02 -7.2140e-01 -2.4133e-01 -3.0226e-02\n",
      " -5.0257e-02  3.3103e-01  2.3232e-01 -4.7033e-01  3.8886e-01 -4.0306e-01\n",
      " -2.9306e-01  1.6082e-01  5.9278e-01 -4.3758e-01  1.0430e+00  4.7843e-01\n",
      "  3.1376e-01 -9.7232e-02 -4.7624e-01 -2.6231e-01 -1.2472e-01  1.4626e-01\n",
      " -3.0539e+00  2.7329e-01  5.1819e-01  6.5193e-01 -6.2277e-01 -3.2342e-01\n",
      "  4.6050e-01 -4.9187e-01  1.9491e-01  2.0300e-01  6.8973e-01 -5.1836e-01\n",
      "  5.4692e-02  2.6443e-01 -4.6905e-01  1.7857e-01  3.3002e-01  7.6405e-01\n",
      "  5.0110e-01  1.7678e-01 -1.2562e+00  1.6654e-01  5.2280e-01 -1.9164e-02\n",
      " -2.0966e-01  4.6096e-02 -6.1923e-04 -2.1292e-01  2.0175e-01 -1.2897e-02\n",
      "  6.0529e-01 -4.4746e-02  1.8558e-02  1.0948e+00  9.3996e-01 -2.2076e-01\n",
      "  2.1465e-01  3.2904e-02  1.0028e-01 -3.8381e-01  5.4592e-01  6.2795e-02\n",
      "  2.6534e-01  3.7005e-01 -9.9533e-02 -3.0415e-01 -1.2319e-01 -7.3927e-02\n",
      " -2.1446e-01 -1.2887e-01  4.0041e-01 -2.4905e-01 -1.8930e-01 -3.3936e-01\n",
      "  5.6388e-02 -7.7492e-02  5.7682e-01 -1.6637e-01 -2.9399e-01  1.7524e-01\n",
      "  5.9433e-01 -2.5548e-01 -2.0096e-01  2.7077e-02 -3.9692e-01 -2.1046e-02\n",
      " -2.6920e-01 -6.4063e-01 -4.1650e-01  1.4620e-02 -9.9762e-02  3.9734e-01\n",
      "  4.5282e-02  3.4553e-01 -8.5477e-02 -1.9403e-02 -4.0236e-01 -3.8962e-01\n",
      " -9.1023e-02 -2.1431e-02 -2.6191e-02  1.1751e-01 -4.1328e-01  3.5515e-02\n",
      "  7.5164e-02  1.1228e+00  3.3584e-01  1.2485e-01 -3.4496e-01 -1.9958e-02\n",
      " -2.0669e-01 -5.3119e-01 -2.7743e-02 -6.8806e-02 -1.1321e-01 -2.8332e-02\n",
      " -5.4524e-01  2.8887e-02 -7.9270e-02 -4.5202e-01 -3.8577e-01  2.6746e-01\n",
      "  2.0565e-01  4.0441e-02  2.4957e-01  1.4708e-01  1.4228e-01  2.3737e-01\n",
      " -5.0964e-01 -1.4892e-02  3.5762e-01 -1.4090e-01  5.6286e-01  1.7347e-02\n",
      " -1.1425e-02  1.1381e-01  5.3750e-02 -6.8724e-01 -2.8357e-01  4.8783e-02\n",
      " -3.8335e-01 -4.5458e-01 -2.7152e-02  2.8938e-01 -5.7306e-01 -2.3033e-01\n",
      " -5.7904e-01 -5.0492e-02 -2.0284e+00 -1.4418e-02 -3.6295e-01 -1.3242e-01\n",
      " -2.7659e-01 -3.7399e-01 -1.0796e-01  2.8634e-01 -1.8938e-02 -2.8452e-01\n",
      " -8.1156e-02 -3.4697e-01  1.8248e-01 -2.7992e-01  1.5089e-01  6.2534e-01\n",
      " -6.5873e-01  1.3013e-01 -2.6317e-02  8.5661e-02 -1.5141e-01  2.2956e-01\n",
      "  2.2711e-02 -5.5303e-01 -3.6312e-01 -4.5843e-01 -1.4317e-01  8.1640e-02\n",
      "  3.4238e-01 -4.0742e-01  1.3583e-01  3.7978e-01  1.6655e-01 -2.4479e-01\n",
      "  8.1674e-01 -5.2003e-01 -2.4184e-01  3.9024e-01 -9.2827e-02  4.5020e-01\n",
      "  1.6203e-01 -5.2172e-02 -3.0403e-01 -1.8206e-01  2.9206e-01  2.4290e-01\n",
      "  1.1419e-01 -2.0715e-02 -3.4237e-01  5.6683e-01 -1.6686e-02  1.9142e-01\n",
      "  2.3149e-01 -2.8463e-01 -6.3282e-02  5.9963e-01 -6.3530e-01  1.6831e-01\n",
      "  5.7076e-02  8.5078e-02 -4.2394e-02  6.5239e-01 -2.2988e-01 -8.2786e-02\n",
      "  2.3448e-01  3.3696e-01  1.6948e-01  9.1196e-02 -9.3316e-02 -2.7831e-01\n",
      "  2.5325e-01  2.7602e-01 -2.7795e-01  6.1801e-01  4.1281e-01  1.0077e-03]\n"
     ]
    }
   ],
   "source": [
    "print(embedding_matrix[1].shape)\n",
    "print(embedding_matrix[1])"
   ]
  },
  {
   "cell_type": "code",
   "execution_count": 19,
   "metadata": {
    "colab": {
     "base_uri": "https://localhost:8080/",
     "height": 207
    },
    "colab_type": "code",
    "id": "iu5Ztg8jrZMZ",
    "outputId": "ceea87db-77ba-4940-b7d1-d256adf6d125"
   },
   "outputs": [
    {
     "name": "stdout",
     "output_type": "stream",
     "text": [
      "WARNING:tensorflow:From /usr/local/lib/python3.6/dist-packages/keras/backend/tensorflow_backend.py:541: The name tf.placeholder is deprecated. Please use tf.compat.v1.placeholder instead.\n",
      "\n",
      "WARNING:tensorflow:From /usr/local/lib/python3.6/dist-packages/keras/backend/tensorflow_backend.py:66: The name tf.get_default_graph is deprecated. Please use tf.compat.v1.get_default_graph instead.\n",
      "\n",
      "WARNING:tensorflow:From /usr/local/lib/python3.6/dist-packages/keras/backend/tensorflow_backend.py:4432: The name tf.random_uniform is deprecated. Please use tf.random.uniform instead.\n",
      "\n",
      "WARNING:tensorflow:From /usr/local/lib/python3.6/dist-packages/keras/backend/tensorflow_backend.py:190: The name tf.get_default_session is deprecated. Please use tf.compat.v1.get_default_session instead.\n",
      "\n",
      "WARNING:tensorflow:From /usr/local/lib/python3.6/dist-packages/keras/backend/tensorflow_backend.py:197: The name tf.ConfigProto is deprecated. Please use tf.compat.v1.ConfigProto instead.\n",
      "\n"
     ]
    }
   ],
   "source": [
    "\n",
    "# text_input: meant to receive sequences of 600 integers, between 1 and max_vocabulary.\n",
    "# Note that we can name any layer by passing it a \"name\" argument.\n",
    "\n",
    "text_input =  Input(shape=(450,), dtype='int32', name='text_input')\n",
    "\n",
    "# This embedding layer will encode the input sequence\n",
    "# into a sequence of dense 300 dimensional vectors.\n",
    "x = Embedding(output_dim=300, input_dim=max_vocabulary+1, input_length=450 , weights=[embedding_matrix] , trainable=False)(text_input)\n",
    "\n",
    "# A LSTM will transform the vector sequence into a single vector,\n",
    "# containing information about the entire sequence\n",
    "x = LSTM(100 , return_sequences=True ,kernel_regularizer=regularizers.l2(0.001) )(x)\n",
    "\n",
    "flatten_1 = Flatten()(x)\n"
   ]
  },
  {
   "cell_type": "code",
   "execution_count": 0,
   "metadata": {
    "colab": {},
    "colab_type": "code",
    "id": "EcAE9ysTUSwM"
   },
   "outputs": [],
   "source": [
    "# Testing how lstm works\n",
    "\n",
    "# from keras.models import Model\n",
    "# from keras.layers import Input\n",
    "# from keras.layers import LSTM\n",
    "# from numpy import array\n",
    "# # define model\n",
    "# inputs1 = Input(shape=(3, 1))\n",
    "# lstm1 = LSTM(4, return_sequences=True)(inputs1)\n",
    "# model = Model(inputs=inputs1, outputs=lstm1)\n",
    "# # define input data\n",
    "# data = array([0.1, 0.2, 0.3 , 0.4 , 0.5, 0.6]).reshape((2,3,1))\n",
    "\n",
    "# # make and show prediction\n",
    "# print(model.predict(data))"
   ]
  },
  {
   "cell_type": "markdown",
   "metadata": {
    "colab_type": "text",
    "id": "3J3RxlRrK4R7"
   },
   "source": [
    "### Embedding categorical features"
   ]
  },
  {
   "cell_type": "markdown",
   "metadata": {
    "colab_type": "text",
    "id": "pjK3j0D2K9C0"
   },
   "source": [
    "#### Note: This setting is being used in Embedding layer(input_dim)\n",
    "#### Value to be set is discussed in below block\n",
    "#### this will be used across all the embedding layers of categorical variables"
   ]
  },
  {
   "cell_type": "code",
   "execution_count": 20,
   "metadata": {
    "colab": {
     "base_uri": "https://localhost:8080/",
     "height": 51
    },
    "colab_type": "code",
    "id": "Hh2kZyGGTTml",
    "outputId": "51377af3-b3fc-42ba-ddd6-cb814daa900c"
   },
   "outputs": [
    {
     "name": "stdout",
     "output_type": "stream",
     "text": [
      "Number of unique categories=  51\n",
      "Embedding size=  26\n"
     ]
    }
   ],
   "source": [
    "# Embedding categorical feature schol_state\n",
    "\n",
    "# Encodes from index 0 to n_classes-1\n",
    "#i.e we are not setting input_dim= no_of_unique_state +1 because \n",
    "# max_lable possible will be n_classes-1 and no_of_unique_state will be n_classes\n",
    "# (Documentation): input_dim: int > 0. Size of the vocabulary, i.e. maximum integer index + 1.\n",
    "# so value we are setting is (n_classes-1)+1 which is no_of_unique_state\n",
    "\n",
    "lb = LabelEncoder()\n",
    "lb.fit(X_train['school_state'].values)\n",
    "\n",
    "# using these as input to the model\n",
    "school_state_train = lb.transform(X_train['school_state'].values)\n",
    "school_state_cv = lb.transform(X_cv['school_state'].values)\n",
    "school_state_test = lb.transform(X_test['school_state'].values)\n",
    "\n",
    "\n",
    "no_of_unique_state = X_train['school_state'].nunique()\n",
    "print(\"Number of unique categories= \",no_of_unique_state)\n",
    "embedding_size = min(np.ceil((no_of_unique_state)/2), 50 )\n",
    "embedding_size = int(embedding_size)\n",
    "print('Embedding size= ',embedding_size)\n",
    "\n",
    "\n",
    "state_input = Input(shape=(1,) , name='school_state')\n",
    "embedding_school_state = Embedding( output_dim=embedding_size , input_dim= no_of_unique_state , input_length=1, trainable=True )(state_input)\n",
    "flatten_2 = Flatten()(embedding_school_state)"
   ]
  },
  {
   "cell_type": "code",
   "execution_count": 21,
   "metadata": {
    "colab": {
     "base_uri": "https://localhost:8080/",
     "height": 51
    },
    "colab_type": "code",
    "id": "jTkrmsGsJAMZ",
    "outputId": "0d011928-8fd3-4cf6-ac8b-ce047b6411ef"
   },
   "outputs": [
    {
     "name": "stdout",
     "output_type": "stream",
     "text": [
      "Number of unique categories=  5\n",
      "Embedding size=  3\n"
     ]
    }
   ],
   "source": [
    "# Embedding categorical feature teacher_prefix\n",
    "\n",
    "lb = LabelEncoder()\n",
    "lb.fit(X['teacher_prefix'].values)\n",
    "\n",
    "# using these as input to the model\n",
    "teacher_prefix_train = lb.transform(X_train['teacher_prefix'].values)\n",
    "teacher_prefix_cv = lb.transform(X_cv['teacher_prefix'].values)\n",
    "teacher_prefix_test = lb.transform(X_test['teacher_prefix'].values)\n",
    "\n",
    "\n",
    "no_of_unique_prefix = X_train['teacher_prefix'].nunique()\n",
    "print(\"Number of unique categories= \",no_of_unique_prefix)\n",
    "embedding_size = min(np.ceil((no_of_unique_prefix)/2), 50 )\n",
    "embedding_size = int(embedding_size)\n",
    "print('Embedding size= ',embedding_size)\n",
    "\n",
    "\n",
    "prefix_input = Input(shape=(1,) , name='teacher_prefix')\n",
    "embedding_prefix = Embedding( output_dim=embedding_size , input_dim= no_of_unique_prefix , input_length=1, trainable=True )(prefix_input)\n",
    "flatten_3 = Flatten()(embedding_prefix)"
   ]
  },
  {
   "cell_type": "code",
   "execution_count": 22,
   "metadata": {
    "colab": {
     "base_uri": "https://localhost:8080/",
     "height": 51
    },
    "colab_type": "code",
    "id": "xxVtTVfZMKTs",
    "outputId": "53624cd1-2be3-480b-d60a-68b50521f4d3"
   },
   "outputs": [
    {
     "name": "stdout",
     "output_type": "stream",
     "text": [
      "Number of unique categories=  50\n",
      "Embedding size=  25\n"
     ]
    }
   ],
   "source": [
    "# Embedding categorical feature clean_categories\n",
    "\n",
    "lb = LabelEncoder()\n",
    "lb.fit(X['clean_categories'].values)\n",
    "\n",
    "# using these as input to the model\n",
    "clean_categories_train = lb.transform(X_train['clean_categories'].values)\n",
    "clean_categories_cv = lb.transform(X_cv['clean_categories'].values)\n",
    "clean_categories_test = lb.transform(X_test['clean_categories'].values)\n",
    "\n",
    "\n",
    "no_of_unique_categories = X_train['clean_categories'].nunique()\n",
    "print(\"Number of unique categories= \",no_of_unique_categories)\n",
    "embedding_size = min(np.ceil((no_of_unique_categories)/2), 50 )\n",
    "embedding_size = int(embedding_size)\n",
    "print('Embedding size= ',embedding_size)\n",
    "\n",
    "\n",
    "categories_input = Input(shape=(1,) , name='clean_categories')\n",
    "embedding_categories = Embedding( output_dim=embedding_size , input_dim= no_of_unique_prefix , input_length=1, trainable=True )(categories_input)\n",
    "flatten_4 = Flatten()(embedding_categories)"
   ]
  },
  {
   "cell_type": "code",
   "execution_count": 23,
   "metadata": {
    "colab": {
     "base_uri": "https://localhost:8080/",
     "height": 68
    },
    "colab_type": "code",
    "id": "isvIakSUP9XW",
    "outputId": "54e412d4-4999-4423-e9f9-49b8a3547c40"
   },
   "outputs": [
    {
     "name": "stdout",
     "output_type": "stream",
     "text": [
      "['mathematics' 'literature_writing mathematics' 'literacy music'\n",
      " 'health_wellness specialneeds' 'literacy mathematics']\n",
      "<class 'numpy.ndarray'>\n"
     ]
    }
   ],
   "source": [
    "### Testing\n",
    "\n",
    "train_sub_cat_list = X_train['clean_subcategories'].unique()\n",
    "print(train_sub_cat_list[:5])\n",
    "print(type(clean_categories_test))\n",
    "\n"
   ]
  },
  {
   "cell_type": "code",
   "execution_count": 25,
   "metadata": {
    "colab": {
     "base_uri": "https://localhost:8080/",
     "height": 51
    },
    "colab_type": "code",
    "id": "Ix2qSZjbMlZz",
    "outputId": "5d8a4839-83c6-4cce-e4ba-afb0f70de5a5"
   },
   "outputs": [
    {
     "name": "stdout",
     "output_type": "stream",
     "text": [
      "Number of unique subcategories=  401\n",
      "Embedding size=  50\n"
     ]
    }
   ],
   "source": [
    "# Embedding categorical feature clean_subcategories\n",
    "\n",
    "# Fitting labelEncoder on train+test data instead of train data because there are some categories\n",
    "# that are not present in train datat but present in test and cv data\n",
    "# This causes data leakage problem..., but since this is just labelling the data , going ahead with this approach\n",
    "\n",
    "lb = LabelEncoder()\n",
    "lb.fit(X['clean_subcategories'].values)\n",
    "\n",
    "# using these as input to the model\n",
    "clean_subcategories_train = lb.transform(X_train['clean_subcategories'].values)\n",
    "clean_subcategories_cv = lb.transform(X_cv['clean_subcategories'].values)\n",
    "clean_subcategories_test = lb.transform(X_test['clean_subcategories'].values)\n",
    "\n",
    "\n",
    "no_of_unique_subcategories = X['clean_subcategories'].nunique()\n",
    "print(\"Number of unique subcategories= \",no_of_unique_subcategories)\n",
    "embedding_size = min(np.ceil((no_of_unique_subcategories)/2), 50 )\n",
    "embedding_size = int(embedding_size)\n",
    "print('Embedding size= ',embedding_size)\n",
    "\n",
    "\n",
    "subcategories_input = Input(shape=(1,) , name='clean_subcategories')\n",
    "embedding_subcategories = Embedding( output_dim=embedding_size , input_dim= no_of_unique_prefix , input_length=1, trainable=True )(subcategories_input)\n",
    "flatten_5 = Flatten()(embedding_subcategories)"
   ]
  },
  {
   "cell_type": "code",
   "execution_count": 26,
   "metadata": {
    "colab": {
     "base_uri": "https://localhost:8080/",
     "height": 51
    },
    "colab_type": "code",
    "id": "2Kc0m_cQMliI",
    "outputId": "6cc577be-4d83-4fab-ace2-7dbf0f132790"
   },
   "outputs": [
    {
     "name": "stdout",
     "output_type": "stream",
     "text": [
      "Number of unique categories=  4\n",
      "Embedding size=  2\n"
     ]
    }
   ],
   "source": [
    "# Embedding categorical feature project_grade_category\n",
    "\n",
    "lb = LabelEncoder()\n",
    "lb.fit(X_train['project_grade_category'].values)\n",
    "\n",
    "# using these as input to the model\n",
    "grade_train = lb.transform(X_train['project_grade_category'].values)\n",
    "grade_cv = lb.transform(X_cv['project_grade_category'].values)\n",
    "grade_test = lb.transform(X_test['project_grade_category'].values)\n",
    "\n",
    "\n",
    "no_of_unique_grades = X_train['project_grade_category'].nunique()\n",
    "print(\"Number of unique categories= \",no_of_unique_grades)\n",
    "embedding_size = min(np.ceil((no_of_unique_grades)/2), 50 )\n",
    "embedding_size = int(embedding_size)\n",
    "print('Embedding size= ',embedding_size)\n",
    "\n",
    "\n",
    "grade_input = Input(shape=(1,) , name='project_grade_category')\n",
    "embedding_grade = Embedding( output_dim=embedding_size , input_dim= no_of_unique_prefix , input_length=1, trainable=True )(grade_input)\n",
    "flatten_6 = Flatten()(embedding_grade)"
   ]
  },
  {
   "cell_type": "markdown",
   "metadata": {
    "colab_type": "text",
    "id": "atNQmfq1S48m"
   },
   "source": [
    "### Concatinating all the numerical features"
   ]
  },
  {
   "cell_type": "markdown",
   "metadata": {
    "colab_type": "text",
    "id": "CjS2ynkBTO9y"
   },
   "source": [
    "#### Normalize each of the numerical features and concatinate them"
   ]
  },
  {
   "cell_type": "code",
   "execution_count": 27,
   "metadata": {
    "colab": {
     "base_uri": "https://localhost:8080/",
     "height": 34
    },
    "colab_type": "code",
    "id": "hS64jKxcTUx0",
    "outputId": "50aad596-2bcd-40b5-b989-ed8037fd1580"
   },
   "outputs": [
    {
     "name": "stdout",
     "output_type": "stream",
     "text": [
      "(69918, 2) (21850, 2)\n"
     ]
    }
   ],
   "source": [
    "\n",
    "from sklearn.preprocessing import StandardScaler\n",
    "scaler=StandardScaler()\n",
    "scaler.fit(X_train['teacher_number_of_previously_posted_projects'].values.reshape(-1,1))\n",
    "\n",
    "\n",
    "num_projects_train=scaler.transform(X_train['teacher_number_of_previously_posted_projects'].values.reshape(-1,1))\n",
    "num_projects_cv=scaler.transform(X_cv['teacher_number_of_previously_posted_projects'].values.reshape(-1,1))\n",
    "num_projects_test=scaler.transform(X_test['teacher_number_of_previously_posted_projects'].values.reshape(-1,1))\n",
    "\n",
    "scaler.fit(X_train['price'].values.reshape(-1,1))\n",
    "\n",
    "price_train = scaler.transform(X_train['price'].values.reshape(-1,1))\n",
    "price_cv = scaler.transform(X_cv['price'].values.reshape(-1,1))\n",
    "price_test = scaler.transform(X_test['price'].values.reshape(-1,1))\n",
    "\n",
    "\n",
    "num_feat_train = np.concatenate((num_projects_train , price_train) , axis = 1)\n",
    "num_feat_cv  = np.concatenate((num_projects_cv , price_cv) , axis = 1)\n",
    "num_feat_test = np.concatenate((num_projects_test , price_test) , axis = 1)\n",
    "\n",
    "print(num_feat_train.shape , num_feat_test.shape)\n",
    "      \n",
    "\n",
    "\n"
   ]
  },
  {
   "cell_type": "code",
   "execution_count": 0,
   "metadata": {
    "colab": {},
    "colab_type": "code",
    "id": "GtDQnO494iuu"
   },
   "outputs": [],
   "source": [
    "# Passing the concatinated numerical input to a dense layer\n",
    "\n",
    "num_input = Input(shape=(2,) , name=\"numerical_features\")\n",
    "num_dense = Dense(64, activation='relu' , kernel_initializer='he_normal')(num_input)\n",
    "\n"
   ]
  },
  {
   "cell_type": "markdown",
   "metadata": {
    "colab_type": "text",
    "id": "jtPgBgkv3PS5"
   },
   "source": [
    "### Model1"
   ]
  },
  {
   "cell_type": "markdown",
   "metadata": {
    "colab_type": "text",
    "id": "qd7U5l4g3REc"
   },
   "source": [
    "<img src='https://i.imgur.com/w395Yk9.png'>\n",
    "ref: https://i.imgur.com/w395Yk9.png"
   ]
  },
  {
   "cell_type": "code",
   "execution_count": 29,
   "metadata": {
    "colab": {
     "base_uri": "https://localhost:8080/",
     "height": 1000
    },
    "colab_type": "code",
    "id": "G7mhYhjv6IO4",
    "outputId": "c984f538-7256-4031-a8f3-906a72568f9e"
   },
   "outputs": [
    {
     "name": "stdout",
     "output_type": "stream",
     "text": [
      "Constructing Model1\n",
      "WARNING:tensorflow:From /usr/local/lib/python3.6/dist-packages/keras/backend/tensorflow_backend.py:3733: calling dropout (from tensorflow.python.ops.nn_ops) with keep_prob is deprecated and will be removed in a future version.\n",
      "Instructions for updating:\n",
      "Please use `rate` instead of `keep_prob`. Rate should be set to `rate = 1 - keep_prob`.\n",
      "Model: \"model_1\"\n",
      "__________________________________________________________________________________________________\n",
      "Layer (type)                    Output Shape         Param #     Connected to                     \n",
      "==================================================================================================\n",
      "text_input (InputLayer)         (None, 450)          0                                            \n",
      "__________________________________________________________________________________________________\n",
      "embedding_1 (Embedding)         (None, 450, 300)     14184000    text_input[0][0]                 \n",
      "__________________________________________________________________________________________________\n",
      "school_state (InputLayer)       (None, 1)            0                                            \n",
      "__________________________________________________________________________________________________\n",
      "teacher_prefix (InputLayer)     (None, 1)            0                                            \n",
      "__________________________________________________________________________________________________\n",
      "clean_categories (InputLayer)   (None, 1)            0                                            \n",
      "__________________________________________________________________________________________________\n",
      "clean_subcategories (InputLayer (None, 1)            0                                            \n",
      "__________________________________________________________________________________________________\n",
      "project_grade_category (InputLa (None, 1)            0                                            \n",
      "__________________________________________________________________________________________________\n",
      "lstm_1 (LSTM)                   (None, 450, 100)     160400      embedding_1[0][0]                \n",
      "__________________________________________________________________________________________________\n",
      "embedding_2 (Embedding)         (None, 1, 26)        1326        school_state[0][0]               \n",
      "__________________________________________________________________________________________________\n",
      "embedding_3 (Embedding)         (None, 1, 3)         15          teacher_prefix[0][0]             \n",
      "__________________________________________________________________________________________________\n",
      "embedding_4 (Embedding)         (None, 1, 25)        125         clean_categories[0][0]           \n",
      "__________________________________________________________________________________________________\n",
      "embedding_6 (Embedding)         (None, 1, 50)        250         clean_subcategories[0][0]        \n",
      "__________________________________________________________________________________________________\n",
      "embedding_7 (Embedding)         (None, 1, 2)         10          project_grade_category[0][0]     \n",
      "__________________________________________________________________________________________________\n",
      "numerical_features (InputLayer) (None, 2)            0                                            \n",
      "__________________________________________________________________________________________________\n",
      "flatten_1 (Flatten)             (None, 45000)        0           lstm_1[0][0]                     \n",
      "__________________________________________________________________________________________________\n",
      "flatten_2 (Flatten)             (None, 26)           0           embedding_2[0][0]                \n",
      "__________________________________________________________________________________________________\n",
      "flatten_3 (Flatten)             (None, 3)            0           embedding_3[0][0]                \n",
      "__________________________________________________________________________________________________\n",
      "flatten_4 (Flatten)             (None, 25)           0           embedding_4[0][0]                \n",
      "__________________________________________________________________________________________________\n",
      "flatten_6 (Flatten)             (None, 50)           0           embedding_6[0][0]                \n",
      "__________________________________________________________________________________________________\n",
      "flatten_7 (Flatten)             (None, 2)            0           embedding_7[0][0]                \n",
      "__________________________________________________________________________________________________\n",
      "dense_1 (Dense)                 (None, 64)           192         numerical_features[0][0]         \n",
      "__________________________________________________________________________________________________\n",
      "concatenate_1 (Concatenate)     (None, 45170)        0           flatten_1[0][0]                  \n",
      "                                                                 flatten_2[0][0]                  \n",
      "                                                                 flatten_3[0][0]                  \n",
      "                                                                 flatten_4[0][0]                  \n",
      "                                                                 flatten_6[0][0]                  \n",
      "                                                                 flatten_7[0][0]                  \n",
      "                                                                 dense_1[0][0]                    \n",
      "__________________________________________________________________________________________________\n",
      "dense_2 (Dense)                 (None, 100)          4517100     concatenate_1[0][0]              \n",
      "__________________________________________________________________________________________________\n",
      "dropout_1 (Dropout)             (None, 100)          0           dense_2[0][0]                    \n",
      "__________________________________________________________________________________________________\n",
      "dense_3 (Dense)                 (None, 200)          20200       dropout_1[0][0]                  \n",
      "__________________________________________________________________________________________________\n",
      "batch_normalization_1 (BatchNor (None, 200)          800         dense_3[0][0]                    \n",
      "__________________________________________________________________________________________________\n",
      "dropout_2 (Dropout)             (None, 200)          0           batch_normalization_1[0][0]      \n",
      "__________________________________________________________________________________________________\n",
      "dense_4 (Dense)                 (None, 64)           12864       dropout_2[0][0]                  \n",
      "__________________________________________________________________________________________________\n",
      "output (Dense)                  (None, 2)            130         dense_4[0][0]                    \n",
      "==================================================================================================\n",
      "Total params: 18,897,412\n",
      "Trainable params: 4,713,012\n",
      "Non-trainable params: 14,184,400\n",
      "__________________________________________________________________________________________________\n",
      "None\n"
     ]
    }
   ],
   "source": [
    "# Concatinate all the flatten layers and numerical layer\n",
    "\n",
    "print(\"Constructing Model1\")\n",
    "\n",
    "x_concat = concatenate([flatten_1 , flatten_2 , flatten_3 ,flatten_4 , flatten_5 , flatten_6 , num_dense])\n",
    "\n",
    "x = Dense(100, activation=\"relu\", kernel_initializer=\"he_normal\" ,kernel_regularizer=regularizers.l2(0.001))(x_concat)\n",
    "\n",
    "x=Dropout(0.5)(x)\n",
    "\n",
    "x = Dense(200,activation=\"sigmoid\",kernel_initializer=\"glorot_normal\" ,kernel_regularizer=regularizers.l2(0.001))(x)\n",
    "\n",
    "x = BatchNormalization()(x)\n",
    "\n",
    "x=Dropout(0.5)(x)\n",
    "\n",
    "x = Dense(64,activation=\"sigmoid\", kernel_initializer=\"glorot_normal\" ,kernel_regularizer=regularizers.l2(0.001))(x)\n",
    "\n",
    "\n",
    "\n",
    "output = Dense(2, activation='softmax', name='output')(x)\n",
    "\n",
    "model_1 = Model(inputs=[text_input, state_input ,prefix_input,categories_input,\n",
    "                        subcategories_input ,grade_input ,num_input],outputs=[output])\n",
    "\n",
    "\n",
    "\n",
    "print(model_1.summary())"
   ]
  },
  {
   "cell_type": "markdown",
   "metadata": {
    "colab_type": "text",
    "id": "c1R7fAmDJAKP"
   },
   "source": [
    "### Configuring Callbacks( Very useful feature by keras for observing and debugging our models)\n",
    "\n"
   ]
  },
  {
   "cell_type": "markdown",
   "metadata": {
    "colab_type": "text",
    "id": "VyZfUWawOtcO"
   },
   "source": [
    "#### Quick referneces for callbacks in keras\n",
    "\n",
    "#### https://medium.com/singlestone/keras-callbacks-monitor-and-improve-your-deep-learning-205a8a27e91c\n",
    "\n",
    "#### https://medium.com/@mukesh.kumar43585/model-checkpoint-google-colab-and-drive-as-persistent-storage-for-long-training-runs-e35ffa0c33d9\n",
    "\n",
    "#### https://stackoverflow.com/questions/47818822/can-i-use-tensorboard-with-google-colab\n"
   ]
  },
  {
   "cell_type": "code",
   "execution_count": 29,
   "metadata": {
    "colab": {
     "base_uri": "https://localhost:8080/",
     "height": 68
    },
    "colab_type": "code",
    "id": "d6fUW9nfo3ZF",
    "outputId": "27f90f3d-7c67-4077-b599-da37056923e3"
   },
   "outputs": [
    {
     "name": "stdout",
     "output_type": "stream",
     "text": [
      "Wait for 30 seconds...\n",
      "TensorBoard link:\n",
      "http://eee4ac41.ngrok.io\n"
     ]
    }
   ],
   "source": [
    "tbc= TensorBoardColab(startup_waiting_time=30)"
   ]
  },
  {
   "cell_type": "code",
   "execution_count": 0,
   "metadata": {
    "colab": {},
    "colab_type": "code",
    "id": "cGaypU8ZI98r"
   },
   "outputs": [],
   "source": [
    "# Use callbacks for monitoring model....\n",
    "# This is very important everywhere whenever you train a deep Nueral network model\n",
    "# In google colab sometimes connection gets disconnected. we dont want to loose all our work in that case\n",
    "# It can be avoided by storing checkpoints ...\n",
    "# In this example we load a model which has run for 25 epochs and train a further of 25 epochs(stopped at 14 epochs to due ReduceLROnPlateau callback...)\n",
    "\n",
    "\n",
    "\n",
    "\n",
    "filepath = '/content/gdrive/My Drive/AppliedAI Dataset/DonorsChoose_Lstm/Model_1/epochs:{epoch:03d}-val_acc:{val_acc:.3f}.hdf5'\n",
    "\n",
    "\n",
    "checkpoint_1 = ModelCheckpoint(\"model_1.h5\",\n",
    "                             monitor=\"val_loss\",\n",
    "                             mode=\"min\",\n",
    "                             save_best_only = True,\n",
    "                             verbose=1)\n",
    "\n",
    "earlystop_1 = EarlyStopping(monitor = 'val_loss', \n",
    "                            mode=\"min\",\n",
    "                            min_delta = 0, \n",
    "                            patience = 5,\n",
    "                            verbose = 1,\n",
    "                            restore_best_weights = True)\n",
    "\n",
    "reduce_lr_1 = ReduceLROnPlateau(monitor = 'val_loss', factor = 0.2, patience = 5, verbose = 1, min_delta = 0.0001)\n",
    "\n",
    "#logdir = os.path.join(\"logs\", datetime.datetime.now().strftime(\"%Y%m%d-%H%M%S\"))\n",
    "\n",
    "# tensorboard_1 = TensorBoard(log_dir=\"model1_graph\",\n",
    "#                             histogram_freq=0, \n",
    "#                             batch_size=200, \n",
    "#                             write_graph=True, \n",
    "#                             write_grads=False, write_images=False,\n",
    "#                             embeddings_freq=0, \n",
    "#                             embeddings_layer_names=None,\n",
    "#                             embeddings_metadata=None,\n",
    "#                             embeddings_data=None,\n",
    "#                             update_freq='epoch')\n",
    "\n",
    "# log_dir='/content/gdrive/My Drive/AppliedAI Dataset/DonorsChoose_Lstm/TensorBoard/model_1',"
   ]
  },
  {
   "cell_type": "code",
   "execution_count": 0,
   "metadata": {
    "colab": {},
    "colab_type": "code",
    "id": "56NebUbGuBrt"
   },
   "outputs": [],
   "source": [
    "\n",
    "# storing all the inputs to the model in a llist\n",
    "\n",
    "\n",
    "X_train_1 = [text_padded_input_train, school_state_train ,teacher_prefix_train ,  clean_categories_train \n",
    "             , clean_subcategories_train , grade_train , num_feat_train]\n",
    "\n",
    "X_cv_1 = [text_padded_input_cv, school_state_cv ,teacher_prefix_cv ,  clean_categories_cv \n",
    "             , clean_subcategories_cv , grade_cv , num_feat_cv]\n",
    "\n",
    "X_test_1 = [text_padded_input_test, school_state_test ,teacher_prefix_test ,  clean_categories_test \n",
    "             , clean_subcategories_test , grade_test , num_feat_test]\n",
    "\n",
    "\n",
    "\n",
    "# Convert the class label to a vector representation based on the class label value\n",
    "\n",
    "from keras.utils import np_utils\n",
    "\n",
    "y_train = np_utils.to_categorical(Y_train, 2) \n",
    "y_test = np_utils.to_categorical(Y_test, 2)\n",
    "y_cv = np_utils.to_categorical(Y_cv, 2)\n"
   ]
  },
  {
   "cell_type": "code",
   "execution_count": 32,
   "metadata": {
    "colab": {
     "base_uri": "https://localhost:8080/",
     "height": 34
    },
    "colab_type": "code",
    "id": "e-pBRItEyE8L",
    "outputId": "1cc3b9c7-4a51-40fb-9b20-02beffc4863b"
   },
   "outputs": [
    {
     "name": "stdout",
     "output_type": "stream",
     "text": [
      "[0. 1.]\n"
     ]
    }
   ],
   "source": [
    "print(y_train[100])"
   ]
  },
  {
   "cell_type": "code",
   "execution_count": 0,
   "metadata": {
    "colab": {},
    "colab_type": "code",
    "id": "Y2z68Qpq7UPS"
   },
   "outputs": [],
   "source": [
    "# callbacks we are going to use...\n",
    "\n",
    "callbacks_1 = [checkpoint_1 , earlystop_1 , reduce_lr_1 , TensorBoardColabCallback(tbc) ]\n",
    "\n",
    "\n",
    "\n",
    "#callbacks_1 = [TensorBoardColabCallback(tbc) ]"
   ]
  },
  {
   "cell_type": "code",
   "execution_count": 0,
   "metadata": {
    "colab": {},
    "colab_type": "code",
    "id": "mRswds1Dtd5n"
   },
   "outputs": [],
   "source": [
    "model_1.compile(optimizer='adam', loss='categorical_crossentropy', metrics=[auroc])\n",
    "\n"
   ]
  },
  {
   "cell_type": "code",
   "execution_count": 35,
   "metadata": {
    "colab": {
     "base_uri": "https://localhost:8080/",
     "height": 921
    },
    "colab_type": "code",
    "id": "p0njun2aWnrX",
    "outputId": "36113555-0c55-445a-e733-4932e70c62b9"
   },
   "outputs": [
    {
     "name": "stdout",
     "output_type": "stream",
     "text": [
      "WARNING:tensorflow:From /usr/local/lib/python3.6/dist-packages/tensorflow/python/ops/math_grad.py:1250: add_dispatch_support.<locals>.wrapper (from tensorflow.python.ops.array_ops) is deprecated and will be removed in a future version.\n",
      "Instructions for updating:\n",
      "Use tf.where in 2.0, which has the same broadcast rule as np.where\n",
      "Train on 69918 samples, validate on 17480 samples\n",
      "WARNING:tensorflow:From /usr/local/lib/python3.6/dist-packages/tensorboardcolab/core.py:49: The name tf.summary.FileWriter is deprecated. Please use tf.compat.v1.summary.FileWriter instead.\n",
      "\n",
      "WARNING:tensorflow:From /usr/local/lib/python3.6/dist-packages/keras/callbacks.py:1122: The name tf.summary.merge_all is deprecated. Please use tf.compat.v1.summary.merge_all instead.\n",
      "\n",
      "Epoch 1/25\n",
      "69918/69918 [==============================] - 78s 1ms/step - loss: 1.0111 - auroc: 0.5254 - val_loss: 0.6828 - val_auroc: 0.6411\n",
      "\n",
      "Epoch 00001: val_loss improved from inf to 0.68281, saving model to model_1.h5\n",
      "Epoch 2/25\n",
      "69918/69918 [==============================] - 76s 1ms/step - loss: 0.6204 - auroc: 0.5621 - val_loss: 0.5589 - val_auroc: 0.6718\n",
      "\n",
      "Epoch 00002: val_loss improved from 0.68281 to 0.55887, saving model to model_1.h5\n",
      "Epoch 3/25\n",
      "69918/69918 [==============================] - 76s 1ms/step - loss: 0.5573 - auroc: 0.6080 - val_loss: 0.5480 - val_auroc: 0.6914\n",
      "\n",
      "Epoch 00003: val_loss improved from 0.55887 to 0.54802, saving model to model_1.h5\n",
      "Epoch 4/25\n",
      "69918/69918 [==============================] - 77s 1ms/step - loss: 0.5380 - auroc: 0.6705 - val_loss: 0.5448 - val_auroc: 0.7046\n",
      "\n",
      "Epoch 00004: val_loss improved from 0.54802 to 0.54483, saving model to model_1.h5\n",
      "Epoch 5/25\n",
      "69918/69918 [==============================] - 77s 1ms/step - loss: 0.5406 - auroc: 0.6964 - val_loss: 0.5429 - val_auroc: 0.7166\n",
      "\n",
      "Epoch 00005: val_loss improved from 0.54483 to 0.54286, saving model to model_1.h5\n",
      "Epoch 6/25\n",
      "69918/69918 [==============================] - 77s 1ms/step - loss: 0.5452 - auroc: 0.7002 - val_loss: 0.5534 - val_auroc: 0.7234\n",
      "\n",
      "Epoch 00006: val_loss did not improve from 0.54286\n",
      "Epoch 7/25\n",
      "69918/69918 [==============================] - 77s 1ms/step - loss: 0.5447 - auroc: 0.7140 - val_loss: 0.5604 - val_auroc: 0.7311\n",
      "\n",
      "Epoch 00007: val_loss did not improve from 0.54286\n",
      "Epoch 8/25\n",
      "69918/69918 [==============================] - 77s 1ms/step - loss: 0.5309 - auroc: 0.7184 - val_loss: 0.6395 - val_auroc: 0.7351\n",
      "\n",
      "Epoch 00008: val_loss did not improve from 0.54286\n",
      "Epoch 9/25\n",
      "69918/69918 [==============================] - 77s 1ms/step - loss: 0.6343 - auroc: 0.7213 - val_loss: 0.6327 - val_auroc: 0.7364\n",
      "\n",
      "Epoch 00009: val_loss did not improve from 0.54286\n",
      "Epoch 10/25\n",
      "69918/69918 [==============================] - 77s 1ms/step - loss: 0.6633 - auroc: 0.7189 - val_loss: 0.6586 - val_auroc: 0.7374\n",
      "\n",
      "Epoch 00010: val_loss did not improve from 0.54286\n",
      "Restoring model weights from the end of the best epoch\n",
      "\n",
      "Epoch 00010: ReduceLROnPlateau reducing learning rate to 0.00020000000949949026.\n",
      "Epoch 00010: early stopping\n"
     ]
    }
   ],
   "source": [
    "history_1 = model_1.fit(X_train_1,y_train,batch_size=1500,\n",
    "                        epochs=25,validation_data=(X_cv_1,y_cv),callbacks=callbacks_1)"
   ]
  },
  {
   "cell_type": "code",
   "execution_count": 0,
   "metadata": {
    "colab": {},
    "colab_type": "code",
    "id": "7w605B6n_D9N"
   },
   "outputs": [],
   "source": [
    "# loading the stored model ...\n",
    "\n",
    "# We can load the model which we saved previously\n",
    "\n",
    "# Run this block if you want to train the model to some more epochs\n",
    "\n",
    "# from keras.models import load_model\n",
    "\n",
    "# model_1.load_weights('model_1.h5')\n",
    "\n",
    "# history_12 = model_1.fit(X_train_1,y_train,batch_size=512,\n",
    "#                         epochs=10,validation_data=(X_cv_1,y_cv),callbacks=callbacks_1)"
   ]
  },
  {
   "cell_type": "code",
   "execution_count": 36,
   "metadata": {
    "colab": {
     "base_uri": "https://localhost:8080/",
     "height": 565
    },
    "colab_type": "code",
    "id": "5XNP1DQ3_6Fi",
    "outputId": "25def420-e746-4d71-cac2-c43a3e8f9604"
   },
   "outputs": [
    {
     "data": {
      "image/png": "[encoded data removed]",
      "text/plain": [
       "<Figure size 432x288 with 1 Axes>"
      ]
     },
     "metadata": {
      "tags": []
     },
     "output_type": "display_data"
    },
    {
     "data": {
      "image/png": "[encoded data removed]",
      "text/plain": [
       "<Figure size 432x288 with 1 Axes>"
      ]
     },
     "metadata": {
      "tags": []
     },
     "output_type": "display_data"
    }
   ],
   "source": [
    "x = list(range(1,11))\n",
    "\n",
    "\n",
    "cv_loss = history_1.history['val_loss']\n",
    "t_loss = history_1.history['loss']\n",
    "\n",
    "\n",
    "cv_auc = history_1.history['val_auroc']\n",
    "t_auc = history_1.history['auroc']\n",
    "\n",
    "plt_dynamic_loss(x, t_loss, cv_loss)\n",
    "\n",
    "plt_dynamic_auc(x, t_auc, cv_auc)"
   ]
  },
  {
   "cell_type": "markdown",
   "metadata": {
    "colab_type": "text",
    "id": "yK8VUyig9_5E"
   },
   "source": [
    "#### Evaluating the model on test data"
   ]
  },
  {
   "cell_type": "code",
   "execution_count": 37,
   "metadata": {
    "colab": {
     "base_uri": "https://localhost:8080/",
     "height": 68
    },
    "colab_type": "code",
    "id": "1EtsX9ZElC8J",
    "outputId": "69200a6d-0ec1-40db-e261-159df6c935ab"
   },
   "outputs": [
    {
     "name": "stdout",
     "output_type": "stream",
     "text": [
      "21850/21850 [==============================] - 243s 11ms/step\n",
      "Test score: 0.5391652995279779\n",
      "Test roc: 0.7240412774486006\n"
     ]
    }
   ],
   "source": [
    "score = model_1.evaluate(X_test_1, y_test, verbose=1)\n",
    "print('Test score:', score[0])\n",
    "print('Test roc:', score[1])\n"
   ]
  },
  {
   "cell_type": "markdown",
   "metadata": {
    "colab_type": "text",
    "id": "fg8P9F7E2MRl"
   },
   "source": [
    "### Conclusions:\n",
    "\n",
    "1) Test loss = 0.539 and Test AuRoc = 0.724"
   ]
  },
  {
   "cell_type": "markdown",
   "metadata": {
    "colab_type": "text",
    "id": "6O9xBMbx6ZqN"
   },
   "source": [
    "_____________________________________________________________________________"
   ]
  },
  {
   "cell_type": "markdown",
   "metadata": {
    "colab_type": "text",
    "id": "dCCTSDxdPcDT"
   },
   "source": [
    "### Model2  (Similar to model1 but we integer encode text data based on tfidf values of words instead of tokenizing on whole training words)"
   ]
  },
  {
   "cell_type": "markdown",
   "metadata": {
    "colab_type": "text",
    "id": "H9VleTtM3cFi"
   },
   "source": [
    "<img src='https://i.imgur.com/w395Yk9.png'>\n",
    "ref: https://i.imgur.com/w395Yk9.png"
   ]
  },
  {
   "cell_type": "markdown",
   "metadata": {
    "colab_type": "text",
    "id": "A6AiOo2wV_dl"
   },
   "source": [
    "#### This means we are changing the layer that deals with text data (essay)\n",
    "#### Everything else we are keeping same as the previous model(model_1)"
   ]
  },
  {
   "cell_type": "code",
   "execution_count": 0,
   "metadata": {
    "colab": {},
    "colab_type": "code",
    "id": "1pozHJpjQalT"
   },
   "outputs": [],
   "source": [
    "# Filtering Text Data based on idf values\n",
    "\n",
    "tfidf = TfidfVectorizer()\n",
    "combine_tfidf = tfidf.fit_transform(X_train[\"essay\"])\n",
    "\n",
    "# converting to dictionary\n",
    "combine_dict = dict(zip(tfidf.get_feature_names(),list(tfidf.idf_)))"
   ]
  },
  {
   "cell_type": "code",
   "execution_count": 0,
   "metadata": {
    "colab": {},
    "colab_type": "code",
    "id": "P7GHY29IQali"
   },
   "outputs": [],
   "source": [
    "d = {'word': tfidf.get_feature_names() , 'idf_value': tfidf.idf_}\n",
    "\n",
    "tfidf_df = pd.DataFrame(data=d)\n",
    "\n",
    "tfidf_df.set_index = 'idf_value'"
   ]
  },
  {
   "cell_type": "code",
   "execution_count": 36,
   "metadata": {
    "colab": {
     "base_uri": "https://localhost:8080/",
     "height": 111
    },
    "colab_type": "code",
    "id": "R5lExdsxQalm",
    "outputId": "09a8281f-e474-435d-f0a2-6718e0e210d9"
   },
   "outputs": [
    {
     "data": {
      "text/html": [
       "<div>\n",
       "<style scoped>\n",
       "    .dataframe tbody tr th:only-of-type {\n",
       "        vertical-align: middle;\n",
       "    }\n",
       "\n",
       "    .dataframe tbody tr th {\n",
       "        vertical-align: top;\n",
       "    }\n",
       "\n",
       "    .dataframe thead th {\n",
       "        text-align: right;\n",
       "    }\n",
       "</style>\n",
       "<table border=\"1\" class=\"dataframe\">\n",
       "  <thead>\n",
       "    <tr style=\"text-align: right;\">\n",
       "      <th></th>\n",
       "      <th>word</th>\n",
       "      <th>idf_value</th>\n",
       "    </tr>\n",
       "  </thead>\n",
       "  <tbody>\n",
       "    <tr>\n",
       "      <th>40455</th>\n",
       "      <td>students</td>\n",
       "      <td>1.007724</td>\n",
       "    </tr>\n",
       "    <tr>\n",
       "      <th>28168</th>\n",
       "      <td>nannan</td>\n",
       "      <td>1.044886</td>\n",
       "    </tr>\n",
       "  </tbody>\n",
       "</table>\n",
       "</div>"
      ],
      "text/plain": [
       "           word  idf_value\n",
       "40455  students   1.007724\n",
       "28168    nannan   1.044886"
      ]
     },
     "execution_count": 36,
     "metadata": {
      "tags": []
     },
     "output_type": "execute_result"
    }
   ],
   "source": [
    "tfidf_df.sort_values(by ='idf_value' , inplace=True  )\n",
    "\n",
    "tfidf_df.set_index = 'idf_value'\n",
    "\n",
    "tfidf_df.head(2)"
   ]
  },
  {
   "cell_type": "code",
   "execution_count": 37,
   "metadata": {
    "colab": {
     "base_uri": "https://localhost:8080/",
     "height": 51
    },
    "colab_type": "code",
    "id": "l17FE2RaQalr",
    "outputId": "7fd8a8bd-3b03-46e7-c07e-cac568fd69c7"
   },
   "outputs": [
    {
     "name": "stdout",
     "output_type": "stream",
     "text": [
      "Min tf-idf value is:  1.0077243743721636\n",
      "Max tf-idf value is:  11.4619455276077\n"
     ]
    }
   ],
   "source": [
    "print(\"Min tf-idf value is: \",min(tfidf_df['idf_value']))\n",
    "\n",
    "print(\"Max tf-idf value is: \",max(tfidf_df['idf_value']))"
   ]
  },
  {
   "cell_type": "code",
   "execution_count": 38,
   "metadata": {
    "colab": {
     "base_uri": "https://localhost:8080/",
     "height": 273
    },
    "colab_type": "code",
    "id": "6lGY5GoxQalu",
    "outputId": "751bf1f3-6651-423b-816d-aa56a5ac969f"
   },
   "outputs": [
    {
     "data": {
      "image/png": "[encoded data removed]",
      "text/plain": [
       "<Figure size 432x288 with 1 Axes>"
      ]
     },
     "metadata": {
      "tags": []
     },
     "output_type": "display_data"
    }
   ],
   "source": [
    "import seaborn as sns\n",
    "\n",
    "fig , ax = plt.subplots()\n",
    "\n",
    "ax = sns.violinplot(y=tfidf_df['idf_value'],color='b')\n",
    "ax.set_xlabel(\"violin plot of IDF values\")\n",
    "\n",
    "\n",
    "plt.show()"
   ]
  },
  {
   "cell_type": "code",
   "execution_count": 39,
   "metadata": {
    "colab": {
     "base_uri": "https://localhost:8080/",
     "height": 68
    },
    "colab_type": "code",
    "id": "hH_o-4a_Qaly",
    "outputId": "2738f0fd-f9e9-4f03-d8b5-ab34b14f911a"
   },
   "outputs": [
    {
     "name": "stdout",
     "output_type": "stream",
     "text": [
      "Quantiles: 0-25-50-75\n",
      "[ 1.00772437  9.44704251 11.05648042 11.46194553]\n",
      "11.4619455276077\n"
     ]
    }
   ],
   "source": [
    "print(\"Quantiles: 0-25-50-75\")\n",
    "print(np.percentile(tfidf_df['idf_value'],np.arange(0, 100, 25)))\n",
    "\n",
    "print(np.percentile(tfidf_df['idf_value'] , 100))"
   ]
  },
  {
   "cell_type": "code",
   "execution_count": 40,
   "metadata": {
    "colab": {
     "base_uri": "https://localhost:8080/",
     "height": 34
    },
    "colab_type": "code",
    "id": "gfw-1ZRqQal0",
    "outputId": "509b5225-5728-4841-d42f-e4c9cf1d990e"
   },
   "outputs": [
    {
     "name": "stdout",
     "output_type": "stream",
     "text": [
      "(28870, 2)\n"
     ]
    }
   ],
   "source": [
    "mask =   (tfidf_df['idf_value']>=2) & (tfidf_df['idf_value'] <=11.06)\n",
    "\n",
    "tfidf_selected = tfidf_df[mask]\n",
    "\n",
    "print(tfidf_selected.shape)"
   ]
  },
  {
   "cell_type": "code",
   "execution_count": 0,
   "metadata": {
    "colab": {},
    "colab_type": "code",
    "id": "aNljE-XfQal2"
   },
   "outputs": [],
   "source": [
    "corpus_selected = tfidf_selected['word'].tolist()"
   ]
  },
  {
   "cell_type": "code",
   "execution_count": 43,
   "metadata": {
    "colab": {
     "base_uri": "https://localhost:8080/",
     "height": 34
    },
    "colab_type": "code",
    "id": "QzXyavf4Qal5",
    "outputId": "27e24963-1be6-46bc-8980-aae67dd757d7"
   },
   "outputs": [
    {
     "data": {
      "text/plain": [
       "['year', 'new', 'one', 'these', 'would']"
      ]
     },
     "execution_count": 43,
     "metadata": {
      "tags": []
     },
     "output_type": "execute_result"
    }
   ],
   "source": [
    "corpus_selected[0:5]\n"
   ]
  },
  {
   "cell_type": "code",
   "execution_count": 44,
   "metadata": {
    "colab": {
     "base_uri": "https://localhost:8080/",
     "height": 323
    },
    "colab_type": "code",
    "id": "TLfH6dRcQamA",
    "outputId": "4ae3dfed-7918-46f0-867d-3e8c11f17cb9"
   },
   "outputs": [
    {
     "name": "stderr",
     "output_type": "stream",
     "text": [
      "/usr/local/lib/python3.6/dist-packages/ipykernel_launcher.py:7: SettingWithCopyWarning: \n",
      "A value is trying to be set on a copy of a slice from a DataFrame.\n",
      "Try using .loc[row_indexer,col_indexer] = value instead\n",
      "\n",
      "See the caveats in the documentation: http://pandas.pydata.org/pandas-docs/stable/indexing.html#indexing-view-versus-copy\n",
      "  import sys\n",
      "/usr/local/lib/python3.6/dist-packages/ipykernel_launcher.py:8: SettingWithCopyWarning: \n",
      "A value is trying to be set on a copy of a slice from a DataFrame.\n",
      "Try using .loc[row_indexer,col_indexer] = value instead\n",
      "\n",
      "See the caveats in the documentation: http://pandas.pydata.org/pandas-docs/stable/indexing.html#indexing-view-versus-copy\n",
      "  \n",
      "/usr/local/lib/python3.6/dist-packages/ipykernel_launcher.py:9: SettingWithCopyWarning: \n",
      "A value is trying to be set on a copy of a slice from a DataFrame.\n",
      "Try using .loc[row_indexer,col_indexer] = value instead\n",
      "\n",
      "See the caveats in the documentation: http://pandas.pydata.org/pandas-docs/stable/indexing.html#indexing-view-versus-copy\n",
      "  if __name__ == '__main__':\n"
     ]
    }
   ],
   "source": [
    "from keras.preprocessing.text import Tokenizer\n",
    "# Encodes from index 1 to max_vocabulary_words\n",
    "\n",
    "tokenizer = Tokenizer()\n",
    "tokenizer.fit_on_texts(corpus_selected)\n",
    "\n",
    "X_train['IntegerEncoding_2']  = tokenizer.texts_to_sequences(X_train['essay'].values)\n",
    "X_cv['IntegerEncoding_2']     = tokenizer.texts_to_sequences(X_cv['essay'].values)\n",
    "X_test['IntegerEncoding_2']   = tokenizer.texts_to_sequences(X_test['essay'].values)\n",
    "\n",
    "\n"
   ]
  },
  {
   "cell_type": "code",
   "execution_count": 45,
   "metadata": {
    "colab": {
     "base_uri": "https://localhost:8080/",
     "height": 301
    },
    "colab_type": "code",
    "id": "eYxfZXKRQ_C0",
    "outputId": "884531aa-66a0-4880-f05e-97a3c080ac3b"
   },
   "outputs": [
    {
     "data": {
      "text/html": [
       "<div>\n",
       "<style scoped>\n",
       "    .dataframe tbody tr th:only-of-type {\n",
       "        vertical-align: middle;\n",
       "    }\n",
       "\n",
       "    .dataframe tbody tr th {\n",
       "        vertical-align: top;\n",
       "    }\n",
       "\n",
       "    .dataframe thead th {\n",
       "        text-align: right;\n",
       "    }\n",
       "</style>\n",
       "<table border=\"1\" class=\"dataframe\">\n",
       "  <thead>\n",
       "    <tr style=\"text-align: right;\">\n",
       "      <th></th>\n",
       "      <th>school_state</th>\n",
       "      <th>teacher_prefix</th>\n",
       "      <th>project_grade_category</th>\n",
       "      <th>teacher_number_of_previously_posted_projects</th>\n",
       "      <th>clean_categories</th>\n",
       "      <th>clean_subcategories</th>\n",
       "      <th>essay</th>\n",
       "      <th>price</th>\n",
       "      <th>IntegerEncoding_1</th>\n",
       "      <th>IntegerEncoding_2</th>\n",
       "    </tr>\n",
       "  </thead>\n",
       "  <tbody>\n",
       "    <tr>\n",
       "      <th>20846</th>\n",
       "      <td>la</td>\n",
       "      <td>ms</td>\n",
       "      <td>grades_prek_2</td>\n",
       "      <td>0</td>\n",
       "      <td>math_science</td>\n",
       "      <td>mathematics</td>\n",
       "      <td>my school small population big heart i want in...</td>\n",
       "      <td>376.76</td>\n",
       "      <td>[4, 3, 81, 226, 406, 678, 2, 34, 470, 1, 19, 5...</td>\n",
       "      <td>[57, 177, 366, 610, 8, 407, 8, 1005, 2724, 117...</td>\n",
       "    </tr>\n",
       "    <tr>\n",
       "      <th>81132</th>\n",
       "      <td>mi</td>\n",
       "      <td>ms</td>\n",
       "      <td>grades_prek_2</td>\n",
       "      <td>6</td>\n",
       "      <td>literacy_language math_science</td>\n",
       "      <td>literature_writing mathematics</td>\n",
       "      <td>a typical day classroom busy we jam packed mat...</td>\n",
       "      <td>298.99</td>\n",
       "      <td>[171, 690, 20, 6, 1014, 14, 6536, 3780, 41, 84...</td>\n",
       "      <td>[589, 958, 6362, 3579, 39, 899, 10, 10, 110, 8...</td>\n",
       "    </tr>\n",
       "  </tbody>\n",
       "</table>\n",
       "</div>"
      ],
      "text/plain": [
       "      school_state  ...                                  IntegerEncoding_2\n",
       "20846           la  ...  [57, 177, 366, 610, 8, 407, 8, 1005, 2724, 117...\n",
       "81132           mi  ...  [589, 958, 6362, 3579, 39, 899, 10, 10, 110, 8...\n",
       "\n",
       "[2 rows x 10 columns]"
      ]
     },
     "execution_count": 45,
     "metadata": {
      "tags": []
     },
     "output_type": "execute_result"
    }
   ],
   "source": [
    "X_train.head(2)"
   ]
  },
  {
   "cell_type": "code",
   "execution_count": 46,
   "metadata": {
    "colab": {
     "base_uri": "https://localhost:8080/",
     "height": 88
    },
    "colab_type": "code",
    "id": "rH6n1y_8Q_DG",
    "outputId": "cc82da25-1390-48b4-92a8-9fd26a0e1116"
   },
   "outputs": [
    {
     "name": "stdout",
     "output_type": "stream",
     "text": [
      "There are 28870 number of unique words in the entire text corpus\n",
      "[57, 177, 366, 610, 8, 407, 8, 1005, 2724, 1178, 27, 254, 2, 108, 2, 25, 80, 585, 1671, 1219, 137, 444, 905, 66, 1707, 753, 814, 177, 25, 52, 145, 62, 1122, 170, 47, 449, 1621, 25, 37, 8, 35, 80, 8, 69, 90, 50, 166, 129, 3659, 455, 214, 340, 190, 253, 1812, 771, 101, 526, 26, 129, 339, 349, 190, 340, 98, 413, 2528, 1549, 15, 7, 1229, 349, 190, 340, 14, 367, 1885, 6180, 7, 272, 23, 396, 779, 365, 1513, 277, 739, 193, 7, 1621, 52, 52, 349, 190, 66, 822, 7, 416, 190, 69, 141, 54]\n",
      "102\n"
     ]
    }
   ],
   "source": [
    "max_vocabulary = len(tokenizer.word_index)\n",
    "print(\"There are {} number of unique words in the entire text corpus\".format(max_vocabulary))\n",
    "\n",
    "print(X_train['IntegerEncoding_2'].values[0])\n",
    "print(len(X_train['IntegerEncoding_2'].values[0]))\n"
   ]
  },
  {
   "cell_type": "code",
   "execution_count": 0,
   "metadata": {
    "colab": {},
    "colab_type": "code",
    "id": "pWVpnVxlQ_DK"
   },
   "outputs": [],
   "source": [
    "# truncate and/or pad input sequences\n",
    "\n",
    "# We will be using this as text input to our model\n",
    "\n",
    "max_review_length = 500\n",
    "text_padded_input_train = sequence.pad_sequences(X_train['IntegerEncoding_2'].values, maxlen=max_review_length , padding='post' , truncating ='post')\n",
    "text_padded_input_cv    =   sequence.pad_sequences(X_cv['IntegerEncoding_2'].values, maxlen=max_review_length , padding='post' , truncating ='post')\n",
    "text_padded_input_test  = sequence.pad_sequences(X_test['IntegerEncoding_2'].values, maxlen=max_review_length , padding='post' , truncating ='post')\n"
   ]
  },
  {
   "cell_type": "code",
   "execution_count": 69,
   "metadata": {
    "colab": {
     "base_uri": "https://localhost:8080/",
     "height": 748
    },
    "colab_type": "code",
    "id": "L-Hk5idAQ_DP",
    "outputId": "45e4eebc-fdba-4204-b9c7-37487ae4fb9f"
   },
   "outputs": [
    {
     "name": "stdout",
     "output_type": "stream",
     "text": [
      "500\n",
      "[   24   119    42   627  1027  4395  1729   148   426   448  3540    93\n",
      "  3322    66   171  4190   344   191  1819   173   179    80   213    85\n",
      "   161    59   368   595   957   360    63   854  1402  1864    17    92\n",
      "    29   126  1385  1188   687   937  2387   244   338    95    24   512\n",
      "   790   260    56   155    56 20455    44  8199 20875  1069   260   195\n",
      "   602   193   489   937  8199 20875   488   260  4183   526 20875   213\n",
      "  2993  2838   147   419   456   456  4183    35  1433   652   456   101\n",
      "  5714   342  3958  1802   924   858 20875  2778   526 20875   147   121\n",
      "   507  2414    42   770  1680   195  2904   488   318   513  3050  5871\n",
      "   148 17838   454  7420    35  1433  1854  8620   955   513  3518  6230\n",
      "  1069   260    95    35 10475  1980 11518  4105     0     0     0     0\n",
      "     0     0     0     0     0     0     0     0     0     0     0     0\n",
      "     0     0     0     0     0     0     0     0     0     0     0     0\n",
      "     0     0     0     0     0     0     0     0     0     0     0     0\n",
      "     0     0     0     0     0     0     0     0     0     0     0     0\n",
      "     0     0     0     0     0     0     0     0     0     0     0     0\n",
      "     0     0     0     0     0     0     0     0     0     0     0     0\n",
      "     0     0     0     0     0     0     0     0     0     0     0     0\n",
      "     0     0     0     0     0     0     0     0     0     0     0     0\n",
      "     0     0     0     0     0     0     0     0     0     0     0     0\n",
      "     0     0     0     0     0     0     0     0     0     0     0     0\n",
      "     0     0     0     0     0     0     0     0     0     0     0     0\n",
      "     0     0     0     0     0     0     0     0     0     0     0     0\n",
      "     0     0     0     0     0     0     0     0     0     0     0     0\n",
      "     0     0     0     0     0     0     0     0     0     0     0     0\n",
      "     0     0     0     0     0     0     0     0     0     0     0     0\n",
      "     0     0     0     0     0     0     0     0     0     0     0     0\n",
      "     0     0     0     0     0     0     0     0     0     0     0     0\n",
      "     0     0     0     0     0     0     0     0     0     0     0     0\n",
      "     0     0     0     0     0     0     0     0     0     0     0     0\n",
      "     0     0     0     0     0     0     0     0     0     0     0     0\n",
      "     0     0     0     0     0     0     0     0     0     0     0     0\n",
      "     0     0     0     0     0     0     0     0     0     0     0     0\n",
      "     0     0     0     0     0     0     0     0     0     0     0     0\n",
      "     0     0     0     0     0     0     0     0     0     0     0     0\n",
      "     0     0     0     0     0     0     0     0     0     0     0     0\n",
      "     0     0     0     0     0     0     0     0     0     0     0     0\n",
      "     0     0     0     0     0     0     0     0     0     0     0     0\n",
      "     0     0     0     0     0     0     0     0     0     0     0     0\n",
      "     0     0     0     0     0     0     0     0     0     0     0     0\n",
      "     0     0     0     0     0     0     0     0     0     0     0     0\n",
      "     0     0     0     0     0     0     0     0]\n"
     ]
    }
   ],
   "source": [
    "print(len(text_padded_input_train[0]))\n",
    "print(text_padded_input_cv[65])"
   ]
  },
  {
   "cell_type": "code",
   "execution_count": 0,
   "metadata": {
    "colab": {},
    "colab_type": "code",
    "id": "Mbaq5GuqQ_DS"
   },
   "outputs": [],
   "source": [
    "import pickle\n",
    "with open('/content/gdrive/My Drive/AppliedAI Dataset/glove_vectors', 'rb') as f:\n",
    "    glove = pickle.load(f)\n",
    "    glove_words =  set(glove.keys())"
   ]
  },
  {
   "cell_type": "code",
   "execution_count": 0,
   "metadata": {
    "colab": {},
    "colab_type": "code",
    "id": "OUVYpdghQ_DX"
   },
   "outputs": [],
   "source": [
    "from numpy import zeros\n",
    "\n",
    "# create a weight matrix for words in training docs\n",
    "embedding_matrix = zeros((max_vocabulary+1, 300))\n",
    "for word, i in tokenizer.word_index.items():\n",
    "    if word in glove_words:\n",
    "       embedding_vector = glove[word]\n",
    "       embedding_matrix[i] = embedding_vector\n"
   ]
  },
  {
   "cell_type": "code",
   "execution_count": 51,
   "metadata": {
    "colab": {
     "base_uri": "https://localhost:8080/",
     "height": 884
    },
    "colab_type": "code",
    "id": "sW6-qqjOQ_Da",
    "outputId": "96efbe77-1925-49d7-b6ad-329f31ce2862"
   },
   "outputs": [
    {
     "name": "stdout",
     "output_type": "stream",
     "text": [
      "(300,)\n",
      "[-1.4240e-01  2.3713e-01 -3.9057e-01 -7.3110e-02  3.5530e-01 -7.2130e-02\n",
      " -3.0864e+00  3.8436e-01 -2.6778e-01 -2.0027e-01  1.4898e-01  4.5742e-01\n",
      "  2.1269e-01 -1.5310e-01  1.8688e-01 -1.5698e-01  6.5033e-02 -4.8631e-02\n",
      " -2.3764e-01  4.0033e-01  5.1223e-01  2.7246e-01 -3.3327e-01  7.5138e-02\n",
      " -4.7034e-01 -1.8123e-01  3.9304e-01  6.7642e-02  1.5320e-01  4.9700e-01\n",
      " -5.2482e-01  9.6122e-02 -8.3464e-02  9.4474e-02 -3.1080e-01  3.9169e-03\n",
      " -2.0585e-01  7.9736e-01  1.3143e-01 -1.7278e-01 -1.3190e-01 -1.3695e-01\n",
      "  4.7299e-01  1.7741e-01 -3.1142e-01 -3.0928e-01  8.7610e-02  2.5012e-01\n",
      " -6.9745e-01  2.2594e-01  3.5158e-01  2.9656e-01  4.1315e-01  1.8174e-01\n",
      "  1.3404e-01 -3.6780e-01  2.8399e-02  4.1781e-01 -1.0088e-01  3.6607e-01\n",
      " -3.0281e-01 -3.6929e-01  3.1273e-01  2.1106e-01 -5.4009e-01  2.3604e-01\n",
      "  1.6610e-01  3.2307e-01 -2.6003e-02  5.4128e-02 -5.5720e-01  9.5873e-02\n",
      "  3.3894e-01 -3.9044e-01  5.5129e-02 -5.4555e-01 -4.7377e-01 -7.2365e-03\n",
      " -6.4361e-03 -2.9842e-02  3.7989e-01 -1.3738e+00 -1.8449e-01 -3.2014e-01\n",
      "  1.9801e-01 -3.5385e-01 -2.9055e-01 -8.8511e-02 -2.7548e-02  5.3798e-02\n",
      "  1.7127e-01 -4.5211e-01  1.7625e-01 -2.1497e-01 -3.3399e-01  4.3313e-02\n",
      " -1.8016e+00 -1.8882e-01  2.9039e-01  2.2636e-01  1.7004e-01  4.5196e-01\n",
      "  6.3632e-01 -2.4711e-01  1.0842e-02 -3.7730e-02  9.6205e-01  3.0786e-01\n",
      "  7.0240e-02  1.1452e-01 -2.4098e-01  1.2101e-01 -5.7309e-02 -4.9170e-03\n",
      " -8.1529e-02  3.9410e-01 -2.3163e-01  3.1585e-01  1.5030e-01  1.5369e-01\n",
      "  9.5440e-02  3.9341e-03 -1.6918e-01 -4.0537e-01  6.9187e-02 -6.0478e-02\n",
      "  7.1515e-01 -9.0341e-02  3.8318e-02  1.1910e-01  6.1763e-02 -6.0912e-01\n",
      "  1.7043e-01 -5.8971e-01 -2.1926e-01 -3.5649e-01 -2.3872e-01 -4.0103e-02\n",
      "  2.5561e-01  1.3739e-01  7.7655e-02 -4.2731e-01 -2.8317e-01  5.1758e-02\n",
      "  9.9538e-02 -3.7342e-01  6.4814e-02  2.1677e-01 -7.1659e-02  1.5316e-01\n",
      " -6.8978e-02  1.8281e-01  6.1492e-02 -2.2231e-02 -3.8286e-01 -9.2022e-02\n",
      "  2.8896e-02  2.8349e-02 -4.3689e-01 -3.2328e-01  1.7611e-01 -1.1544e-01\n",
      "  3.2841e-01 -2.2402e-01  3.5470e-01 -4.3426e-01 -1.9889e-01  1.7702e-01\n",
      "  3.4612e-01 -2.7482e-01 -2.2730e-01 -2.8715e-02  2.7236e-02 -6.7582e-01\n",
      "  2.6345e-02  2.3939e-01  6.1051e-02  2.0980e-01 -6.7080e-01  3.0915e-01\n",
      "  2.1610e-01  5.8177e-01  3.1862e-01 -4.7531e-01  1.1970e-01 -6.5802e-02\n",
      " -5.6771e-01 -3.0357e-02  1.2210e-01 -5.0537e-02  1.0029e-01  1.6231e-01\n",
      " -2.3009e-02 -3.3049e-01  1.8917e-01  7.7227e-02 -5.6398e-02  4.3430e-01\n",
      " -6.9766e-02  1.7820e-01  1.4731e-01 -7.5924e-02  2.9513e-01  2.2397e-01\n",
      " -1.5173e-01  2.9565e-01  4.1151e-02 -1.7955e-01  5.6536e-02  2.0484e-01\n",
      "  6.8544e-03 -8.0790e-02  2.9702e-01 -1.2516e-02 -3.9188e-02 -1.6716e-01\n",
      " -5.1861e-01  2.8338e-01 -1.9028e-01  2.1677e-01 -1.4159e-01  3.9821e-01\n",
      " -1.5129e-01  1.7401e-01 -3.9122e+00  4.5198e-01  9.9930e-02 -3.1698e-01\n",
      " -5.5688e-01 -1.9793e-01 -3.9335e-02 -3.3243e-01  7.4145e-03 -3.1005e-01\n",
      " -6.2846e-01  1.1166e-01 -1.0024e+00  2.3391e-01 -1.2681e-01  2.9576e-01\n",
      " -3.2550e-01 -2.1387e-01 -1.0394e+00  4.9410e-01  4.9803e-01  1.0739e-01\n",
      " -2.1649e-01  1.2185e-01 -1.6609e-01 -1.0772e-01  1.0914e-01 -4.6203e-02\n",
      "  3.3079e-01 -2.6701e-01 -1.2018e-02 -1.9847e-01  1.3741e-01 -8.1987e-02\n",
      " -5.1538e-01  4.7685e-01 -8.8366e-02 -8.9419e-02  8.8256e-02  1.9624e-01\n",
      "  4.7514e-01 -8.2183e-02 -1.2526e-01  1.5328e-01  7.8179e-02  6.0054e-02\n",
      " -8.8509e-02  2.4194e-01 -1.6208e-01 -3.4088e-03  1.4976e-02  4.0733e-01\n",
      " -1.0223e-02 -1.5665e-01  4.5261e-01 -2.0752e-01  3.0026e-01 -2.9652e-03\n",
      " -2.4111e-01 -1.6457e-01  2.4107e-01  1.0458e-02  3.8094e-01  5.8253e-02\n",
      "  1.9460e-01  1.4421e-01  3.1621e-01  1.2786e-01  2.1591e-01 -5.6993e-01\n",
      " -8.5212e-02 -3.8445e-01  4.9435e-01  3.6237e-01  2.3729e-01 -9.0785e-02]\n"
     ]
    }
   ],
   "source": [
    "print(embedding_matrix[1].shape)\n",
    "print(embedding_matrix[1])"
   ]
  },
  {
   "cell_type": "code",
   "execution_count": 0,
   "metadata": {
    "colab": {},
    "colab_type": "code",
    "id": "JkunlK6uQ_De"
   },
   "outputs": [],
   "source": [
    "\n",
    "# text_input: meant to receive sequences of 600 integers, between 1 and max_vocabulary.\n",
    "# Note that we can name any layer by passing it a \"name\" argument.\n",
    "\n",
    "text_input =  Input(shape=(500,), dtype='int32', name='text_input')\n",
    "\n",
    "# This embedding layer will encode the input sequence\n",
    "# into a sequence of dense 300 dimensional vectors.\n",
    "x = Embedding(output_dim=300, input_dim=max_vocabulary+1, input_length=500 , weights=[embedding_matrix] , trainable=False)(text_input)\n",
    "\n",
    "# A LSTM will transform the vector sequence into a single vector,\n",
    "# containing information about the entire sequence\n",
    "x = LSTM(100 , return_sequences=True ,kernel_regularizer=regularizers.l2(0.001) )(x)\n",
    "\n",
    "flatten_12= Flatten()(x)\n"
   ]
  },
  {
   "cell_type": "code",
   "execution_count": 183,
   "metadata": {
    "colab": {
     "base_uri": "https://localhost:8080/",
     "height": 1275
    },
    "colab_type": "code",
    "id": "30too4YLPbbf",
    "outputId": "08e6d87b-ff73-42ec-df3a-f5ec90a332b9"
   },
   "outputs": [
    {
     "name": "stdout",
     "output_type": "stream",
     "text": [
      "Constructing Model2\n",
      "Model: \"model_6\"\n",
      "__________________________________________________________________________________________________\n",
      "Layer (type)                    Output Shape         Param #     Connected to                     \n",
      "==================================================================================================\n",
      "text_input (InputLayer)         (None, 500)          0                                            \n",
      "__________________________________________________________________________________________________\n",
      "embedding_18 (Embedding)        (None, 500, 300)     8661300     text_input[0][0]                 \n",
      "__________________________________________________________________________________________________\n",
      "school_state (InputLayer)       (None, 1)            0                                            \n",
      "__________________________________________________________________________________________________\n",
      "teacher_prefix (InputLayer)     (None, 1)            0                                            \n",
      "__________________________________________________________________________________________________\n",
      "clean_categories (InputLayer)   (None, 1)            0                                            \n",
      "__________________________________________________________________________________________________\n",
      "clean_subcategories (InputLayer (None, 1)            0                                            \n",
      "__________________________________________________________________________________________________\n",
      "project_grade_category (InputLa (None, 1)            0                                            \n",
      "__________________________________________________________________________________________________\n",
      "lstm_4 (LSTM)                   (None, 500, 100)     160400      embedding_18[0][0]               \n",
      "__________________________________________________________________________________________________\n",
      "embedding_13 (Embedding)        (None, 1, 26)        1326        school_state[0][0]               \n",
      "__________________________________________________________________________________________________\n",
      "embedding_14 (Embedding)        (None, 1, 3)         15          teacher_prefix[0][0]             \n",
      "__________________________________________________________________________________________________\n",
      "embedding_15 (Embedding)        (None, 1, 25)        125         clean_categories[0][0]           \n",
      "__________________________________________________________________________________________________\n",
      "embedding_16 (Embedding)        (None, 1, 50)        250         clean_subcategories[0][0]        \n",
      "__________________________________________________________________________________________________\n",
      "embedding_17 (Embedding)        (None, 1, 2)         10          project_grade_category[0][0]     \n",
      "__________________________________________________________________________________________________\n",
      "numerical_features (InputLayer) (None, 2)            0                                            \n",
      "__________________________________________________________________________________________________\n",
      "flatten_22 (Flatten)            (None, 50000)        0           lstm_4[0][0]                     \n",
      "__________________________________________________________________________________________________\n",
      "flatten_17 (Flatten)            (None, 26)           0           embedding_13[0][0]               \n",
      "__________________________________________________________________________________________________\n",
      "flatten_18 (Flatten)            (None, 3)            0           embedding_14[0][0]               \n",
      "__________________________________________________________________________________________________\n",
      "flatten_19 (Flatten)            (None, 25)           0           embedding_15[0][0]               \n",
      "__________________________________________________________________________________________________\n",
      "flatten_20 (Flatten)            (None, 50)           0           embedding_16[0][0]               \n",
      "__________________________________________________________________________________________________\n",
      "flatten_21 (Flatten)            (None, 2)            0           embedding_17[0][0]               \n",
      "__________________________________________________________________________________________________\n",
      "dense_19 (Dense)                (None, 64)           192         numerical_features[0][0]         \n",
      "__________________________________________________________________________________________________\n",
      "concatenate_6 (Concatenate)     (None, 50170)        0           flatten_22[0][0]                 \n",
      "                                                                 flatten_17[0][0]                 \n",
      "                                                                 flatten_18[0][0]                 \n",
      "                                                                 flatten_19[0][0]                 \n",
      "                                                                 flatten_20[0][0]                 \n",
      "                                                                 flatten_21[0][0]                 \n",
      "                                                                 dense_19[0][0]                   \n",
      "__________________________________________________________________________________________________\n",
      "dense_20 (Dense)                (None, 100)          5017100     concatenate_6[0][0]              \n",
      "__________________________________________________________________________________________________\n",
      "dropout_11 (Dropout)            (None, 100)          0           dense_20[0][0]                   \n",
      "__________________________________________________________________________________________________\n",
      "dense_21 (Dense)                (None, 200)          20200       dropout_11[0][0]                 \n",
      "__________________________________________________________________________________________________\n",
      "batch_normalization_6 (BatchNor (None, 200)          800         dense_21[0][0]                   \n",
      "__________________________________________________________________________________________________\n",
      "dropout_12 (Dropout)            (None, 200)          0           batch_normalization_6[0][0]      \n",
      "__________________________________________________________________________________________________\n",
      "dense_22 (Dense)                (None, 64)           12864       dropout_12[0][0]                 \n",
      "__________________________________________________________________________________________________\n",
      "output (Dense)                  (None, 2)            130         dense_22[0][0]                   \n",
      "==================================================================================================\n",
      "Total params: 13,874,712\n",
      "Trainable params: 5,213,012\n",
      "Non-trainable params: 8,661,700\n",
      "__________________________________________________________________________________________________\n",
      "None\n"
     ]
    }
   ],
   "source": [
    "# Concatinate all the flatten layers and numerical layer\n",
    "\n",
    "print(\"Constructing Model2\")\n",
    "\n",
    "x_concat = concatenate([flatten_12 , flatten_2 , flatten_3 ,flatten_4 , flatten_5 , flatten_6 , num_dense])\n",
    "\n",
    "x = Dense(100, activation=\"relu\", kernel_initializer=\"he_normal\" ,kernel_regularizer=regularizers.l2(0.001))(x_concat)\n",
    "\n",
    "x=Dropout(0.5)(x)\n",
    "\n",
    "x = Dense(200,activation=\"sigmoid\",kernel_initializer=\"glorot_normal\" ,kernel_regularizer=regularizers.l2(0.001))(x)\n",
    "\n",
    "x = BatchNormalization()(x)\n",
    "\n",
    "x=Dropout(0.5)(x)\n",
    "\n",
    "x = Dense(64,activation=\"sigmoid\", kernel_initializer=\"glorot_normal\" ,kernel_regularizer=regularizers.l2(0.001))(x)\n",
    "\n",
    "\n",
    "\n",
    "output = Dense(2, activation='softmax', name='output')(x)\n",
    "\n",
    "model_2 = Model(inputs=[text_input, state_input ,prefix_input,categories_input,\n",
    "                        subcategories_input ,grade_input ,num_input],outputs=[output])\n",
    "\n",
    "\n",
    "\n",
    "print(model_2.summary())"
   ]
  },
  {
   "cell_type": "code",
   "execution_count": 0,
   "metadata": {
    "colab": {},
    "colab_type": "code",
    "id": "ptPz-gM-TTf6"
   },
   "outputs": [],
   "source": [
    "# inputs to the model_2\n",
    "\n",
    "X_train_2 = [text_padded_input_train, school_state_train ,teacher_prefix_train ,  clean_categories_train \n",
    "             , clean_subcategories_train , grade_train , num_feat_train]\n",
    "\n",
    "X_cv_2 = [text_padded_input_cv, school_state_cv ,teacher_prefix_cv ,  clean_categories_cv \n",
    "             , clean_subcategories_cv , grade_cv , num_feat_cv]\n",
    "\n",
    "X_test_2 = [text_padded_input_test, school_state_test ,teacher_prefix_test ,  clean_categories_test \n",
    "             , clean_subcategories_test , grade_test , num_feat_test]"
   ]
  },
  {
   "cell_type": "code",
   "execution_count": 189,
   "metadata": {
    "colab": {
     "base_uri": "https://localhost:8080/",
     "height": 646
    },
    "colab_type": "code",
    "id": "Akd1lUdfPbT4",
    "outputId": "b487a6ad-821f-46d9-9402-3507a39a658a"
   },
   "outputs": [
    {
     "name": "stdout",
     "output_type": "stream",
     "text": [
      "Train on 69918 samples, validate on 17480 samples\n",
      "Epoch 1/17\n",
      "69918/69918 [==============================] - 84s 1ms/step - loss: 0.6115 - auroc: 0.6446 - val_loss: 0.5682 - val_auroc: 0.7145\n",
      "\n",
      "Epoch 00001: val_loss did not improve from 0.42461\n",
      "Epoch 2/17\n",
      "69918/69918 [==============================] - 83s 1ms/step - loss: 0.5429 - auroc: 0.6772 - val_loss: 0.5021 - val_auroc: 0.7290\n",
      "\n",
      "Epoch 00002: val_loss did not improve from 0.42461\n",
      "Epoch 3/17\n",
      "69918/69918 [==============================] - 79s 1ms/step - loss: 0.4891 - auroc: 0.7145 - val_loss: 0.4722 - val_auroc: 0.7376\n",
      "\n",
      "Epoch 00003: val_loss did not improve from 0.42461\n",
      "Epoch 4/17\n",
      "69918/69918 [==============================] - 82s 1ms/step - loss: 0.4733 - auroc: 0.7222 - val_loss: 0.4752 - val_auroc: 0.7389\n",
      "\n",
      "Epoch 00004: val_loss did not improve from 0.42461\n",
      "Epoch 5/17\n",
      "69918/69918 [==============================] - 81s 1ms/step - loss: 0.4695 - auroc: 0.7278 - val_loss: 0.4726 - val_auroc: 0.7424\n",
      "\n",
      "Epoch 00005: val_loss did not improve from 0.42461\n",
      "Epoch 6/17\n",
      "69918/69918 [==============================] - 82s 1ms/step - loss: 0.4901 - auroc: 0.7339 - val_loss: 0.4886 - val_auroc: 0.7448\n",
      "\n",
      "Epoch 00006: val_loss did not improve from 0.42461\n",
      "Epoch 7/17\n",
      "69918/69918 [==============================] - 81s 1ms/step - loss: 0.4941 - auroc: 0.7397 - val_loss: 0.4903 - val_auroc: 0.7489\n",
      "\n",
      "Epoch 00007: val_loss did not improve from 0.42461\n",
      "Epoch 8/17\n",
      "69918/69918 [==============================] - 80s 1ms/step - loss: 0.5026 - auroc: 0.7431 - val_loss: 0.5162 - val_auroc: 0.7503\n",
      "\n",
      "Epoch 00008: val_loss did not improve from 0.42461\n",
      "Restoring model weights from the end of the best epoch\n",
      "\n",
      "Epoch 00008: ReduceLROnPlateau reducing learning rate to 0.00020000000949949026.\n",
      "Epoch 00008: early stopping\n"
     ]
    }
   ],
   "source": [
    "model_2.compile(optimizer='adam', loss='categorical_crossentropy', metrics=[auroc])\n",
    "history_2 = model_2.fit(X_train_2,y_train,batch_size=2000,\n",
    "                        epochs=17,validation_data=(X_cv_2,y_cv),callbacks=callbacks_1)\n"
   ]
  },
  {
   "cell_type": "code",
   "execution_count": 190,
   "metadata": {
    "colab": {
     "base_uri": "https://localhost:8080/",
     "height": 565
    },
    "colab_type": "code",
    "id": "dceX5RfEfmLH",
    "outputId": "aecc6277-67c5-4521-cef7-82987d1d240a"
   },
   "outputs": [
    {
     "data": {
      "image/png": "[encoded data removed]",
      "text/plain": [
       "<Figure size 432x288 with 1 Axes>"
      ]
     },
     "metadata": {
      "tags": []
     },
     "output_type": "display_data"
    },
    {
     "data": {
      "image/png": "[encoded data removed]",
      "text/plain": [
       "<Figure size 432x288 with 1 Axes>"
      ]
     },
     "metadata": {
      "tags": []
     },
     "output_type": "display_data"
    }
   ],
   "source": [
    "x = list(range(1,9))\n",
    "\n",
    "\n",
    "cv_loss = history_2.history['val_loss']\n",
    "t_loss = history_2.history['loss']\n",
    "\n",
    "\n",
    "cv_auc = history_2.history['val_auroc']\n",
    "t_auc = history_2.history['auroc']\n",
    "\n",
    "plt_dynamic_loss(x, t_loss, cv_loss)\n",
    "\n",
    "plt_dynamic_auc(x, t_auc, cv_auc)"
   ]
  },
  {
   "cell_type": "markdown",
   "metadata": {
    "colab_type": "text",
    "id": "EOcYNal__HC0"
   },
   "source": [
    "#### Evaluating the model on test data"
   ]
  },
  {
   "cell_type": "code",
   "execution_count": 191,
   "metadata": {
    "colab": {
     "base_uri": "https://localhost:8080/",
     "height": 68
    },
    "colab_type": "code",
    "id": "G_lJoh61fmLP",
    "outputId": "f69815f9-2a10-4bd1-eaa8-a722ebb230db"
   },
   "outputs": [
    {
     "name": "stdout",
     "output_type": "stream",
     "text": [
      "21850/21850 [==============================] - 300s 14ms/step\n",
      "Test score: 0.4706692377162471\n",
      "Test roc: 0.7381125102498359\n"
     ]
    }
   ],
   "source": [
    "score = model_2.evaluate(X_test_2, y_test, verbose=1)\n",
    "print('Test score:', score[0])  \n",
    "print('Test roc:', score[1])\n"
   ]
  },
  {
   "cell_type": "markdown",
   "metadata": {
    "colab_type": "text",
    "id": "DEFTspsf6rgm"
   },
   "source": [
    "#### Test lloss = 0.470 and Test AuRoc = 0.738\n",
    "#### Observed a significant improvement in Loss value compared to model1(due to selecting the words based on idf values for integer encoding text data)"
   ]
  },
  {
   "cell_type": "markdown",
   "metadata": {
    "colab_type": "text",
    "id": "RA0c9-7n6rqA"
   },
   "source": [
    "_________________________________________________________________________________"
   ]
  },
  {
   "cell_type": "markdown",
   "metadata": {
    "colab_type": "text",
    "id": "c6a7scJynS3j"
   },
   "source": [
    "### Model3"
   ]
  },
  {
   "cell_type": "markdown",
   "metadata": {
    "colab_type": "text",
    "id": "Wm9Go4Sc7NpS"
   },
   "source": [
    "<img src='https://i.imgur.com/fkQ8nGo.png'>\n",
    "ref: https://i.imgur.com/fkQ8nGo.png"
   ]
  },
  {
   "cell_type": "code",
   "execution_count": 0,
   "metadata": {
    "colab": {},
    "colab_type": "code",
    "id": "mi-b3q0FnVsF"
   },
   "outputs": [],
   "source": [
    "\n",
    "from keras.layers import Conv1D\n",
    "from keras.initializers import he_normal\n",
    "\n",
    "\n",
    "# Input cannot be a single dimension like (7,) => # now: model.output_shape == (None, 7)\n",
    "# It gives ValueError: Input 0 is incompatible with layer conv1d_3: expected ndim=3, found ndim=2\n",
    "# we will reshape the input to (*,7,1)\n",
    "\n",
    "input_without_text  = Input(shape=(7,1) , name='other_than_text') # now: model.output_shape == (None, 7 , 1)\n",
    "\n",
    "conv = Conv1D(64 , 3 , activation='relu' ,  kernel_initializer=he_normal(seed=None) , padding='same')(input_without_text)\n",
    "\n",
    "conv = Conv1D(32 , 3 , activation='relu' ,  kernel_initializer=he_normal(seed=None) , padding='same')(conv)\n",
    "\n",
    "flatten_without_text = Flatten()(conv)\n"
   ]
  },
  {
   "cell_type": "markdown",
   "metadata": {
    "colab_type": "text",
    "id": "2YiPA3FF0PZz"
   },
   "source": [
    "### Concatinating all inputs other than 'essay'"
   ]
  },
  {
   "cell_type": "code",
   "execution_count": 54,
   "metadata": {
    "colab": {
     "base_uri": "https://localhost:8080/",
     "height": 34
    },
    "colab_type": "code",
    "id": "O_0qfa589zei",
    "outputId": "1db944ce-eb21-465a-ba94-6835dbba509d"
   },
   "outputs": [
    {
     "name": "stdout",
     "output_type": "stream",
     "text": [
      "(69918, 1) (69918, 1) (69918, 1)\n"
     ]
    }
   ],
   "source": [
    "print(num_projects_train.shape , price_train.shape , school_state_train.reshape(-1,1).shape)"
   ]
  },
  {
   "cell_type": "code",
   "execution_count": 0,
   "metadata": {
    "colab": {},
    "colab_type": "code",
    "id": "EdgL3_Xd0P4S"
   },
   "outputs": [],
   "source": [
    "\n",
    "feat_train = np.concatenate((num_projects_train , price_train , school_state_train.reshape(-1,1) , teacher_prefix_train.reshape(-1,1) ,\\\n",
    "                             clean_categories_train.reshape(-1,1) , clean_subcategories_train.reshape(-1,1) ,\\\n",
    "                            grade_train.reshape(-1,1)) , axis = 1)\n",
    "feat_cv = np.concatenate((num_projects_cv , price_cv , school_state_cv.reshape(-1,1) , teacher_prefix_cv.reshape(-1,1) , \\\n",
    "                          clean_categories_cv.reshape(-1,1) , clean_subcategories_cv.reshape(-1,1) ,\\\n",
    "                            grade_cv.reshape(-1,1)) , axis = 1)\n",
    "feat_test = np.concatenate((num_projects_test , price_test , school_state_test.reshape(-1,1) , teacher_prefix_test.reshape(-1,1) ,\\\n",
    "                            clean_categories_test.reshape(-1,1) , clean_subcategories_test.reshape(-1,1) ,\\\n",
    "                            grade_test.reshape(-1,1)) , \n",
    "                           axis = 1)"
   ]
  },
  {
   "cell_type": "code",
   "execution_count": 56,
   "metadata": {
    "colab": {
     "base_uri": "https://localhost:8080/",
     "height": 153
    },
    "colab_type": "code",
    "id": "ITwAUTBg_WIw",
    "outputId": "067b98cf-4413-4c65-b463-0ab459512463"
   },
   "outputs": [
    {
     "name": "stdout",
     "output_type": "stream",
     "text": [
      "(69918, 7, 1)\n",
      "[[-4.01910925e-01]\n",
      " [ 2.12962264e-01]\n",
      " [ 1.80000000e+01]\n",
      " [ 3.00000000e+00]\n",
      " [ 3.20000000e+01]\n",
      " [ 3.42000000e+02]\n",
      " [ 3.00000000e+00]]\n"
     ]
    }
   ],
   "source": [
    "# Reshaping it to the input size mentioned in 'input_without_text' layer\n",
    "\n",
    "x_train_without_text = feat_train.reshape(-1 , 7 ,1)\n",
    "x_cv_without_text =   feat_cv.reshape(-1 , 7 ,1)\n",
    "x_test_without_text =  feat_test.reshape(-1 , 7 ,1)\n",
    "\n",
    "print(x_train_without_text.shape)\n",
    "print(x_train_without_text[0])"
   ]
  },
  {
   "cell_type": "code",
   "execution_count": 0,
   "metadata": {
    "colab": {},
    "colab_type": "code",
    "id": "b8WVJTYMiN89"
   },
   "outputs": [],
   "source": [
    "\n",
    "from keras.layers import Conv1D\n",
    "from keras.initializers import he_normal\n",
    "\n",
    "input_without_text  = Input(shape=(7,1) , name='other_than_text')\n",
    "\n",
    "conv = Conv1D(64 , 3 , activation='relu' ,  kernel_initializer=he_normal(seed=None) , padding='same')(input_without_text)\n",
    "\n",
    "conv = Conv1D(32 , 3 , activation='relu' ,  kernel_initializer=he_normal(seed=None) , padding='same')(conv)\n",
    "\n",
    "flatten_without_text = Flatten()(conv)\n"
   ]
  },
  {
   "cell_type": "code",
   "execution_count": 58,
   "metadata": {
    "colab": {
     "base_uri": "https://localhost:8080/",
     "height": 819
    },
    "colab_type": "code",
    "id": "SKJ7t85pnVqS",
    "outputId": "e984dfda-e51a-42fc-81db-377ec72945dd"
   },
   "outputs": [
    {
     "name": "stdout",
     "output_type": "stream",
     "text": [
      "Constructing Model3\n",
      "WARNING:tensorflow:From /usr/local/lib/python3.6/dist-packages/keras/backend/tensorflow_backend.py:3733: calling dropout (from tensorflow.python.ops.nn_ops) with keep_prob is deprecated and will be removed in a future version.\n",
      "Instructions for updating:\n",
      "Please use `rate` instead of `keep_prob`. Rate should be set to `rate = 1 - keep_prob`.\n",
      "Model: \"model_1\"\n",
      "__________________________________________________________________________________________________\n",
      "Layer (type)                    Output Shape         Param #     Connected to                     \n",
      "==================================================================================================\n",
      "text_input (InputLayer)         (None, 500)          0                                            \n",
      "__________________________________________________________________________________________________\n",
      "other_than_text (InputLayer)    (None, 7, 1)         0                                            \n",
      "__________________________________________________________________________________________________\n",
      "embedding_7 (Embedding)         (None, 500, 300)     8661300     text_input[0][0]                 \n",
      "__________________________________________________________________________________________________\n",
      "conv1d_3 (Conv1D)               (None, 7, 64)        256         other_than_text[0][0]            \n",
      "__________________________________________________________________________________________________\n",
      "lstm_2 (LSTM)                   (None, 500, 100)     160400      embedding_7[0][0]                \n",
      "__________________________________________________________________________________________________\n",
      "conv1d_4 (Conv1D)               (None, 7, 32)        6176        conv1d_3[0][0]                   \n",
      "__________________________________________________________________________________________________\n",
      "flatten_7 (Flatten)             (None, 50000)        0           lstm_2[0][0]                     \n",
      "__________________________________________________________________________________________________\n",
      "flatten_9 (Flatten)             (None, 224)          0           conv1d_4[0][0]                   \n",
      "__________________________________________________________________________________________________\n",
      "concatenate_1 (Concatenate)     (None, 50224)        0           flatten_7[0][0]                  \n",
      "                                                                 flatten_9[0][0]                  \n",
      "__________________________________________________________________________________________________\n",
      "dense_2 (Dense)                 (None, 100)          5022500     concatenate_1[0][0]              \n",
      "__________________________________________________________________________________________________\n",
      "dropout_1 (Dropout)             (None, 100)          0           dense_2[0][0]                    \n",
      "__________________________________________________________________________________________________\n",
      "dense_3 (Dense)                 (None, 200)          20200       dropout_1[0][0]                  \n",
      "__________________________________________________________________________________________________\n",
      "batch_normalization_1 (BatchNor (None, 200)          800         dense_3[0][0]                    \n",
      "__________________________________________________________________________________________________\n",
      "dropout_2 (Dropout)             (None, 200)          0           batch_normalization_1[0][0]      \n",
      "__________________________________________________________________________________________________\n",
      "dense_4 (Dense)                 (None, 64)           12864       dropout_2[0][0]                  \n",
      "__________________________________________________________________________________________________\n",
      "output (Dense)                  (None, 2)            130         dense_4[0][0]                    \n",
      "==================================================================================================\n",
      "Total params: 13,884,626\n",
      "Trainable params: 5,222,926\n",
      "Non-trainable params: 8,661,700\n",
      "__________________________________________________________________________________________________\n",
      "None\n"
     ]
    }
   ],
   "source": [
    "# Concatinate all the text flattened layer and without_text flattened layer\n",
    "\n",
    "print(\"Constructing Model3\")\n",
    "\n",
    "x_concat = concatenate([flatten_12 , flatten_without_text])\n",
    "\n",
    "x = Dense(100, activation=\"relu\", kernel_initializer=\"he_normal\" ,kernel_regularizer=regularizers.l2(0.001))(x_concat)\n",
    "\n",
    "x=Dropout(0.5)(x)\n",
    "\n",
    "x = Dense(200,activation=\"sigmoid\",kernel_initializer=\"glorot_normal\" ,kernel_regularizer=regularizers.l2(0.001))(x)\n",
    "\n",
    "x = BatchNormalization()(x)\n",
    "\n",
    "x=Dropout(0.5)(x)\n",
    "\n",
    "x = Dense(64,activation=\"relu\", kernel_initializer=\"he_normal\" ,kernel_regularizer=regularizers.l2(0.001))(x)\n",
    "\n",
    "\n",
    "\n",
    "output = Dense(2, activation='softmax', name='output')(x)\n",
    "\n",
    "model_3 = Model(inputs=[text_input, input_without_text],outputs=[output])\n",
    "\n",
    "\n",
    "\n",
    "print(model_3.summary())"
   ]
  },
  {
   "cell_type": "code",
   "execution_count": 198,
   "metadata": {
    "colab": {
     "base_uri": "https://localhost:8080/",
     "height": 68
    },
    "colab_type": "code",
    "id": "a7-Hcdi1yoUV",
    "outputId": "1d1f0ef5-8808-44e3-8a33-65a26192597b"
   },
   "outputs": [
    {
     "name": "stdout",
     "output_type": "stream",
     "text": [
      "Wait for 30 seconds...\n",
      "TensorBoard link:\n",
      "https://1eabe40d.ngrok.io\n"
     ]
    }
   ],
   "source": [
    "tbc= TensorBoardColab(startup_waiting_time=30)"
   ]
  },
  {
   "cell_type": "code",
   "execution_count": 0,
   "metadata": {
    "colab": {},
    "colab_type": "code",
    "id": "DBSdEzFBygBd"
   },
   "outputs": [],
   "source": [
    "model_3.compile(optimizer='adam', loss='categorical_crossentropy', metrics=[auroc])\n"
   ]
  },
  {
   "cell_type": "code",
   "execution_count": 72,
   "metadata": {
    "colab": {
     "base_uri": "https://localhost:8080/",
     "height": 1734
    },
    "colab_type": "code",
    "id": "rjtr8kIeygBi",
    "outputId": "a68fb090-2757-458e-a08b-bd5584a43c23"
   },
   "outputs": [
    {
     "name": "stdout",
     "output_type": "stream",
     "text": [
      "Train on 69918 samples, validate on 17480 samples\n",
      "Epoch 1/25\n",
      "69918/69918 [==============================] - 171s 2ms/step - loss: 0.4340 - auroc: 0.5095 - val_loss: 0.4314 - val_auroc: 0.5224\n",
      "\n",
      "Epoch 00001: val_loss improved from 0.43359 to 0.43141, saving model to model_1.h5\n",
      "Epoch 2/25\n",
      "69918/69918 [==============================] - 178s 3ms/step - loss: 0.4315 - auroc: 0.5104 - val_loss: 0.4322 - val_auroc: 0.5127\n",
      "\n",
      "Epoch 00002: val_loss did not improve from 0.43141\n",
      "Epoch 3/25\n",
      "69918/69918 [==============================] - 174s 2ms/step - loss: 0.4303 - auroc: 0.5158 - val_loss: 0.4299 - val_auroc: 0.5073\n",
      "\n",
      "Epoch 00003: val_loss improved from 0.43141 to 0.42988, saving model to model_1.h5\n",
      "Epoch 4/25\n",
      "69918/69918 [==============================] - 177s 3ms/step - loss: 0.4296 - auroc: 0.5104 - val_loss: 0.4290 - val_auroc: 0.5126\n",
      "\n",
      "Epoch 00004: val_loss improved from 0.42988 to 0.42897, saving model to model_1.h5\n",
      "Epoch 5/25\n",
      "69918/69918 [==============================] - 175s 3ms/step - loss: 0.4291 - auroc: 0.5143 - val_loss: 0.4302 - val_auroc: 0.5128\n",
      "\n",
      "Epoch 00005: val_loss did not improve from 0.42897\n",
      "Epoch 6/25\n",
      "69918/69918 [==============================] - 175s 3ms/step - loss: 0.4283 - auroc: 0.5146 - val_loss: 0.4273 - val_auroc: 0.5135\n",
      "\n",
      "Epoch 00006: val_loss improved from 0.42897 to 0.42727, saving model to model_1.h5\n",
      "Epoch 7/25\n",
      "69918/69918 [==============================] - 176s 3ms/step - loss: 0.4278 - auroc: 0.5138 - val_loss: 0.4272 - val_auroc: 0.5110\n",
      "\n",
      "Epoch 00007: val_loss improved from 0.42727 to 0.42716, saving model to model_1.h5\n",
      "Epoch 8/25\n",
      "69918/69918 [==============================] - 175s 3ms/step - loss: 0.4273 - auroc: 0.5126 - val_loss: 0.4270 - val_auroc: 0.5270\n",
      "\n",
      "Epoch 00008: val_loss improved from 0.42716 to 0.42695, saving model to model_1.h5\n",
      "Epoch 9/25\n",
      "69918/69918 [==============================] - 175s 3ms/step - loss: 0.4272 - auroc: 0.5222 - val_loss: 0.4342 - val_auroc: 0.3965\n",
      "\n",
      "Epoch 00009: val_loss did not improve from 0.42695\n",
      "Epoch 10/25\n",
      "69918/69918 [==============================] - 178s 3ms/step - loss: 0.4337 - auroc: 0.5512 - val_loss: 0.4506 - val_auroc: 0.5928\n",
      "\n",
      "Epoch 00010: val_loss did not improve from 0.42695\n",
      "Epoch 11/25\n",
      "69918/69918 [==============================] - 172s 2ms/step - loss: 0.4326 - auroc: 0.5078 - val_loss: 0.4291 - val_auroc: 0.5817\n",
      "\n",
      "Epoch 00011: val_loss did not improve from 0.42695\n",
      "Epoch 12/25\n",
      "69918/69918 [==============================] - 171s 2ms/step - loss: 0.4293 - auroc: 0.5253 - val_loss: 0.4258 - val_auroc: 0.5839\n",
      "\n",
      "Epoch 00012: val_loss improved from 0.42695 to 0.42584, saving model to model_1.h5\n",
      "Epoch 13/25\n",
      "69918/69918 [==============================] - 177s 3ms/step - loss: 0.4239 - auroc: 0.5772 - val_loss: 0.4241 - val_auroc: 0.5938\n",
      "\n",
      "Epoch 00013: val_loss improved from 0.42584 to 0.42407, saving model to model_1.h5\n",
      "Epoch 14/25\n",
      "69918/69918 [==============================] - 174s 2ms/step - loss: 0.4269 - auroc: 0.5786 - val_loss: 0.4238 - val_auroc: 0.5961\n",
      "\n",
      "Epoch 00014: val_loss improved from 0.42407 to 0.42375, saving model to model_1.h5\n",
      "Epoch 15/25\n",
      "69918/69918 [==============================] - 176s 3ms/step - loss: 0.4219 - auroc: 0.6058 - val_loss: 0.4113 - val_auroc: 0.7006\n",
      "\n",
      "Epoch 00015: val_loss improved from 0.42375 to 0.41126, saving model to model_1.h5\n",
      "Epoch 16/25\n",
      "69918/69918 [==============================] - 175s 2ms/step - loss: 0.3997 - auroc: 0.7117 - val_loss: 0.4006 - val_auroc: 0.7445\n",
      "\n",
      "Epoch 00016: val_loss improved from 0.41126 to 0.40057, saving model to model_1.h5\n",
      "Epoch 17/25\n",
      "69918/69918 [==============================] - 174s 2ms/step - loss: 0.3934 - auroc: 0.7276 - val_loss: 0.4032 - val_auroc: 0.7467\n",
      "\n",
      "Epoch 00017: val_loss did not improve from 0.40057\n",
      "Epoch 18/25\n",
      "69918/69918 [==============================] - 173s 2ms/step - loss: 0.3887 - auroc: 0.7341 - val_loss: 0.3916 - val_auroc: 0.7481\n",
      "\n",
      "Epoch 00018: val_loss improved from 0.40057 to 0.39163, saving model to model_1.h5\n",
      "Epoch 19/25\n",
      "69918/69918 [==============================] - 170s 2ms/step - loss: 0.3864 - auroc: 0.7380 - val_loss: 0.3871 - val_auroc: 0.7471\n",
      "\n",
      "Epoch 00019: val_loss improved from 0.39163 to 0.38706, saving model to model_1.h5\n",
      "Epoch 20/25\n",
      "69918/69918 [==============================] - 176s 3ms/step - loss: 0.3858 - auroc: 0.7406 - val_loss: 0.4087 - val_auroc: 0.7518\n",
      "\n",
      "Epoch 00020: val_loss did not improve from 0.38706\n",
      "Epoch 21/25\n",
      "69918/69918 [==============================] - 172s 2ms/step - loss: 0.3832 - auroc: 0.7433 - val_loss: 0.3750 - val_auroc: 0.7550\n",
      "\n",
      "Epoch 00021: val_loss improved from 0.38706 to 0.37499, saving model to model_1.h5\n",
      "Epoch 22/25\n",
      "69918/69918 [==============================] - 174s 2ms/step - loss: 0.3821 - auroc: 0.7476 - val_loss: 0.3828 - val_auroc: 0.7540\n",
      "\n",
      "Epoch 00022: val_loss did not improve from 0.37499\n",
      "Epoch 23/25\n",
      "69918/69918 [==============================] - 172s 2ms/step - loss: 0.3816 - auroc: 0.7484 - val_loss: 0.3818 - val_auroc: 0.7540\n",
      "\n",
      "Epoch 00023: val_loss did not improve from 0.37499\n",
      "Epoch 24/25\n",
      "69918/69918 [==============================] - 177s 3ms/step - loss: 0.3797 - auroc: 0.7520 - val_loss: 0.3882 - val_auroc: 0.7567\n",
      "\n",
      "Epoch 00024: val_loss did not improve from 0.37499\n",
      "Epoch 25/25\n",
      "69918/69918 [==============================] - 175s 3ms/step - loss: 0.3788 - auroc: 0.7545 - val_loss: 0.3780 - val_auroc: 0.7536\n",
      "\n",
      "Epoch 00025: val_loss did not improve from 0.37499\n"
     ]
    }
   ],
   "source": [
    "history_3 = model_3.fit([text_padded_input_train , x_train_without_text ],y_train, batch_size=512 ,\n",
    "                        epochs=25,validation_data=([text_padded_input_cv , x_cv_without_text ],y_cv),callbacks=callbacks_1)"
   ]
  },
  {
   "cell_type": "code",
   "execution_count": 74,
   "metadata": {
    "colab": {
     "base_uri": "https://localhost:8080/",
     "height": 565
    },
    "colab_type": "code",
    "id": "Grij2jwLygBo",
    "outputId": "06952b11-f55b-42e8-a46e-2e2f1c96298b"
   },
   "outputs": [
    {
     "data": {
      "image/png": "[encoded data removed]",
      "text/plain": [
       "<Figure size 432x288 with 1 Axes>"
      ]
     },
     "metadata": {
      "tags": []
     },
     "output_type": "display_data"
    },
    {
     "data": {
      "image/png": "[encoded data removed]",
      "text/plain": [
       "<Figure size 432x288 with 1 Axes>"
      ]
     },
     "metadata": {
      "tags": []
     },
     "output_type": "display_data"
    }
   ],
   "source": [
    "x = list(range(1,26))\n",
    "\n",
    "\n",
    "cv_loss = history_3.history['val_loss']\n",
    "t_loss = history_3.history['loss']\n",
    "\n",
    "\n",
    "cv_auc = history_3.history['val_auroc']\n",
    "t_auc = history_3.history['auroc']\n",
    "\n",
    "plt_dynamic_loss(x, t_loss, cv_loss)\n",
    "\n",
    "plt_dynamic_auc(x, t_auc, cv_auc)"
   ]
  },
  {
   "cell_type": "markdown",
   "metadata": {
    "colab_type": "text",
    "id": "Zy3H1R89TPgZ"
   },
   "source": [
    "#### Evaluating the model on test data"
   ]
  },
  {
   "cell_type": "code",
   "execution_count": 75,
   "metadata": {
    "colab": {
     "base_uri": "https://localhost:8080/",
     "height": 68
    },
    "colab_type": "code",
    "id": "313Q6cbYDvx4",
    "outputId": "8b415126-20d6-45a6-88ed-67f61818d761"
   },
   "outputs": [
    {
     "name": "stdout",
     "output_type": "stream",
     "text": [
      "21850/21850 [==============================] - 306s 14ms/step\n",
      "Test score: 0.3745377472663635\n",
      "Test roc: 0.76383592558743\n"
     ]
    }
   ],
   "source": [
    "score = model_3.evaluate([text_padded_input_test , x_test_without_text ], y_test, verbose=1)\n",
    "print('Test score:', score[0])\n",
    "print('Test roc:', score[1])"
   ]
  },
  {
   "cell_type": "markdown",
   "metadata": {
    "colab_type": "text",
    "id": "edV58jua7UPL"
   },
   "source": [
    "#### Test loss = 0.374 and Test AUC=0.763\n",
    "#### Significant improvemet observer with loss and AUC values compared to other architectures\n",
    "#### (Note: For text data , used the same approach as we used for Model2)"
   ]
  },
  {
   "cell_type": "markdown",
   "metadata": {
    "colab_type": "text",
    "id": "80J5qQ_674GH"
   },
   "source": [
    "_________________________________________________________________________________"
   ]
  },
  {
   "cell_type": "markdown",
   "metadata": {
    "colab_type": "text",
    "id": "rlu0IKyN76hH"
   },
   "source": [
    "### Conclusions:\n",
    "\n",
    "1) Used 2 Different NN architectures with LSTM to analyse DonorsChoose.org dataset\n",
    "\n",
    "2) LSTM are good to have  when we have lots of text data to analize\n",
    "\n",
    "3) Model3 Produced best results compared to other models that we have implemented\n"
   ]
  },
  {
   "cell_type": "code",
   "execution_count": 40,
   "metadata": {
    "colab": {
     "base_uri": "https://localhost:8080/",
     "height": 136
    },
    "colab_type": "code",
    "id": "c_3zb7cE-9b3",
    "outputId": "c3465486-3149-4987-fe98-f280fb2a3894"
   },
   "outputs": [
    {
     "name": "stdout",
     "output_type": "stream",
     "text": [
      "+----------+-----------------------+-------+\n",
      "|  Model   |  MultiClass Log Loss  |  AUC  |\n",
      "+----------+-----------------------+-------+\n",
      "|  Model 1 |         0.539         | 0.724 |\n",
      "|  Model 2 |          0.47         | 0.738 |\n",
      "|  Model 3 |         0.374         | 0.763 |\n",
      "+----------+-----------------------+-------+\n"
     ]
    }
   ],
   "source": [
    "\n",
    "\n",
    "from prettytable import PrettyTable\n",
    "\n",
    "x= PrettyTable()\n",
    "\n",
    "x.field_names = [\"Model\",\" MultiClass Log Loss \",\" AUC \"]\n",
    "x.add_row([\" Model 1\", 0.539 , 0.724])\n",
    "x.add_row([\" Model 2\", 0.470,  0.738])\n",
    "x.add_row([\" Model 3\", 0.374 , 0.763])\n",
    "\n",
    "\n",
    "\n",
    "print(x)"
   ]
  }
 ],
 "metadata": {
  "accelerator": "GPU",
  "colab": {
   "collapsed_sections": [],
   "name": "Copy of LSTM_DC",
   "provenance": [],
   "version": "0.3.2"
  },
  "kernelspec": {
   "display_name": "Python 3",
   "language": "python",
   "name": "python3"
  },
  "language_info": {
   "codemirror_mode": {
    "name": "ipython",
    "version": 3
   },
   "file_extension": ".py",
   "mimetype": "text/x-python",
   "name": "python",
   "nbconvert_exporter": "python",
   "pygments_lexer": "ipython3",
   "version": "3.6.5"
  }
 },
 "nbformat": 4,
 "nbformat_minor": 1
}
